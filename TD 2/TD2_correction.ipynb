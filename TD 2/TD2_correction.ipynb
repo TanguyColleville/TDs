{
 "cells": [
  {
   "cell_type": "code",
   "execution_count": 106,
   "metadata": {},
   "outputs": [],
   "source": [
    "import pandas as pd\n",
    "import numpy as np\n",
    "import matplotlib.pyplot as plt\n",
    "\n",
    "import statsmodels.api as sm\n",
    "from statsmodels.tsa.arima_model import ARMA\n",
    "from statsmodels.tsa.arima.model import ARIMA\n",
    "from statsmodels.stats.diagnostic import acorr_ljungbox"
   ]
  },
  {
   "cell_type": "code",
   "execution_count": 107,
   "metadata": {},
   "outputs": [],
   "source": [
    "S = pd.read_csv('synthetic_ARMA.csv')"
   ]
  },
  {
   "cell_type": "code",
   "execution_count": 108,
   "metadata": {},
   "outputs": [
    {
     "data": {
      "text/html": [
       "<div>\n",
       "<style scoped>\n",
       "    .dataframe tbody tr th:only-of-type {\n",
       "        vertical-align: middle;\n",
       "    }\n",
       "\n",
       "    .dataframe tbody tr th {\n",
       "        vertical-align: top;\n",
       "    }\n",
       "\n",
       "    .dataframe thead th {\n",
       "        text-align: right;\n",
       "    }\n",
       "</style>\n",
       "<table border=\"1\" class=\"dataframe\">\n",
       "  <thead>\n",
       "    <tr style=\"text-align: right;\">\n",
       "      <th></th>\n",
       "      <th>S1</th>\n",
       "      <th>S2</th>\n",
       "    </tr>\n",
       "  </thead>\n",
       "  <tbody>\n",
       "    <tr>\n",
       "      <th>0</th>\n",
       "      <td>-0.446319</td>\n",
       "      <td>0.576042</td>\n",
       "    </tr>\n",
       "    <tr>\n",
       "      <th>1</th>\n",
       "      <td>-0.105804</td>\n",
       "      <td>1.046018</td>\n",
       "    </tr>\n",
       "    <tr>\n",
       "      <th>2</th>\n",
       "      <td>0.579134</td>\n",
       "      <td>0.630641</td>\n",
       "    </tr>\n",
       "    <tr>\n",
       "      <th>3</th>\n",
       "      <td>-0.149433</td>\n",
       "      <td>0.108865</td>\n",
       "    </tr>\n",
       "    <tr>\n",
       "      <th>4</th>\n",
       "      <td>-1.110220</td>\n",
       "      <td>0.383786</td>\n",
       "    </tr>\n",
       "    <tr>\n",
       "      <th>...</th>\n",
       "      <td>...</td>\n",
       "      <td>...</td>\n",
       "    </tr>\n",
       "    <tr>\n",
       "      <th>9995</th>\n",
       "      <td>-0.125624</td>\n",
       "      <td>1.217106</td>\n",
       "    </tr>\n",
       "    <tr>\n",
       "      <th>9996</th>\n",
       "      <td>-0.149925</td>\n",
       "      <td>1.104462</td>\n",
       "    </tr>\n",
       "    <tr>\n",
       "      <th>9997</th>\n",
       "      <td>0.395922</td>\n",
       "      <td>0.384783</td>\n",
       "    </tr>\n",
       "    <tr>\n",
       "      <th>9998</th>\n",
       "      <td>0.206738</td>\n",
       "      <td>-0.362712</td>\n",
       "    </tr>\n",
       "    <tr>\n",
       "      <th>9999</th>\n",
       "      <td>-0.740846</td>\n",
       "      <td>-0.408302</td>\n",
       "    </tr>\n",
       "  </tbody>\n",
       "</table>\n",
       "<p>10000 rows × 2 columns</p>\n",
       "</div>"
      ],
      "text/plain": [
       "            S1        S2\n",
       "0    -0.446319  0.576042\n",
       "1    -0.105804  1.046018\n",
       "2     0.579134  0.630641\n",
       "3    -0.149433  0.108865\n",
       "4    -1.110220  0.383786\n",
       "...        ...       ...\n",
       "9995 -0.125624  1.217106\n",
       "9996 -0.149925  1.104462\n",
       "9997  0.395922  0.384783\n",
       "9998  0.206738 -0.362712\n",
       "9999 -0.740846 -0.408302\n",
       "\n",
       "[10000 rows x 2 columns]"
      ]
     },
     "execution_count": 108,
     "metadata": {},
     "output_type": "execute_result"
    }
   ],
   "source": [
    "S"
   ]
  },
  {
   "cell_type": "code",
   "execution_count": 78,
   "metadata": {},
   "outputs": [],
   "source": [
    "import statsmodels"
   ]
  },
  {
   "cell_type": "code",
   "execution_count": null,
   "metadata": {},
   "outputs": [],
   "source": []
  },
  {
   "cell_type": "code",
   "execution_count": 79,
   "metadata": {},
   "outputs": [
    {
     "data": {
      "text/plain": [
       "'0.12.2'"
      ]
     },
     "execution_count": 79,
     "metadata": {},
     "output_type": "execute_result"
    }
   ],
   "source": [
    "statsmodels.__version__"
   ]
  },
  {
   "cell_type": "code",
   "execution_count": 80,
   "metadata": {},
   "outputs": [],
   "source": [
    "s1,s2 = S['S1'].values,S['S2'].values"
   ]
  },
  {
   "cell_type": "markdown",
   "metadata": {},
   "source": [
    "# Time series S1 "
   ]
  },
  {
   "cell_type": "code",
   "execution_count": 81,
   "metadata": {
    "scrolled": true
   },
   "outputs": [
    {
     "data": {
      "text/plain": [
       "[<matplotlib.lines.Line2D at 0x7f3818804130>]"
      ]
     },
     "execution_count": 81,
     "metadata": {},
     "output_type": "execute_result"
    },
    {
     "data": {
      "image/png": "[encoded data removed]",
      "text/plain": [
       "<Figure size 432x288 with 1 Axes>"
      ]
     },
     "metadata": {
      "needs_background": "light"
     },
     "output_type": "display_data"
    }
   ],
   "source": [
    "plt.plot(s1)"
   ]
  },
  {
   "cell_type": "code",
   "execution_count": 82,
   "metadata": {},
   "outputs": [],
   "source": [
    "#it looks stationary"
   ]
  },
  {
   "cell_type": "code",
   "execution_count": 83,
   "metadata": {},
   "outputs": [
    {
     "data": {
      "image/png": "[encoded data removed]",
      "text/plain": [
       "<Figure size 432x288 with 1 Axes>"
      ]
     },
     "metadata": {
      "needs_background": "light"
     },
     "output_type": "display_data"
    }
   ],
   "source": [
    "sm.graphics.tsa.plot_acf(s1, lags=20)\n",
    "plt.xlabel(r'$lags$',fontsize=16)\n",
    "plt.ylabel('ACF',fontsize=16)\n",
    "plt.tick_params(labelsize=14)\n",
    "plt.show()"
   ]
  },
  {
   "cell_type": "code",
   "execution_count": 84,
   "metadata": {},
   "outputs": [
    {
     "data": {
      "image/png": "[encoded data removed]",
      "text/plain": [
       "<Figure size 432x288 with 1 Axes>"
      ]
     },
     "metadata": {
      "needs_background": "light"
     },
     "output_type": "display_data"
    }
   ],
   "source": [
    "sm.graphics.tsa.plot_pacf(s1, lags=20)\n",
    "plt.xlabel(r'$lags$',fontsize=16)\n",
    "plt.ylabel('PACF',fontsize=16)\n",
    "plt.tick_params(labelsize=14)\n",
    "plt.show()"
   ]
  },
  {
   "cell_type": "code",
   "execution_count": 85,
   "metadata": {},
   "outputs": [],
   "source": [
    "# We can reject pure MA(q) model (unless we want to consider q>10, but it is too complex)\n",
    "# Possible models are: AR(4),ARMA(1,1),ARMA(2,1),ARMA(1,2),ARMA(2,2)\n",
    "# Maybe with trend"
   ]
  },
  {
   "cell_type": "code",
   "execution_count": null,
   "metadata": {},
   "outputs": [],
   "source": []
  },
  {
   "cell_type": "code",
   "execution_count": null,
   "metadata": {},
   "outputs": [],
   "source": []
  },
  {
   "cell_type": "code",
   "execution_count": 109,
   "metadata": {},
   "outputs": [],
   "source": [
    "models = [(4,0,'n'),(4,0,'nc'),\n",
    "          (1,1,'n'),(1,1,'nc'),\n",
    "          (2,1,'n'),(2,1,'nc'),\n",
    "          (1,2,'n'),(1,2,'nc'),\n",
    "          (2,2,'n'),(2,2,'nc')]"
   ]
  },
  {
   "cell_type": "code",
   "execution_count": 110,
   "metadata": {},
   "outputs": [
    {
     "name": "stderr",
     "output_type": "stream",
     "text": [
      "/usr/local/lib/python3.8/dist-packages/statsmodels/tsa/arima_model.py:472: FutureWarning: \n",
      "statsmodels.tsa.arima_model.ARMA and statsmodels.tsa.arima_model.ARIMA have\n",
      "been deprecated in favor of statsmodels.tsa.arima.model.ARIMA (note the .\n",
      "between arima and model) and\n",
      "statsmodels.tsa.SARIMAX. These will be removed after the 0.12 release.\n",
      "\n",
      "statsmodels.tsa.arima.model.ARIMA makes use of the statespace framework and\n",
      "is both well tested and maintained.\n",
      "\n",
      "To silence this warning and continue using ARMA and ARIMA until they are\n",
      "removed, use:\n",
      "\n",
      "import warnings\n",
      "warnings.filterwarnings('ignore', 'statsmodels.tsa.arima_model.ARMA',\n",
      "                        FutureWarning)\n",
      "warnings.filterwarnings('ignore', 'statsmodels.tsa.arima_model.ARIMA',\n",
      "                        FutureWarning)\n",
      "\n",
      "  warnings.warn(ARIMA_DEPRECATION_WARN, FutureWarning)\n"
     ]
    },
    {
     "name": "stdout",
     "output_type": "stream",
     "text": [
      "4 0 n Maybe not stationary\n",
      "1 1 n Maybe not stationary\n"
     ]
    },
    {
     "name": "stderr",
     "output_type": "stream",
     "text": [
      "/usr/local/lib/python3.8/dist-packages/statsmodels/tsa/arima_model.py:472: FutureWarning: \n",
      "statsmodels.tsa.arima_model.ARMA and statsmodels.tsa.arima_model.ARIMA have\n",
      "been deprecated in favor of statsmodels.tsa.arima.model.ARIMA (note the .\n",
      "between arima and model) and\n",
      "statsmodels.tsa.SARIMAX. These will be removed after the 0.12 release.\n",
      "\n",
      "statsmodels.tsa.arima.model.ARIMA makes use of the statespace framework and\n",
      "is both well tested and maintained.\n",
      "\n",
      "To silence this warning and continue using ARMA and ARIMA until they are\n",
      "removed, use:\n",
      "\n",
      "import warnings\n",
      "warnings.filterwarnings('ignore', 'statsmodels.tsa.arima_model.ARMA',\n",
      "                        FutureWarning)\n",
      "warnings.filterwarnings('ignore', 'statsmodels.tsa.arima_model.ARIMA',\n",
      "                        FutureWarning)\n",
      "\n",
      "  warnings.warn(ARIMA_DEPRECATION_WARN, FutureWarning)\n"
     ]
    },
    {
     "name": "stdout",
     "output_type": "stream",
     "text": [
      "2 1 n Maybe not stationary\n"
     ]
    },
    {
     "name": "stderr",
     "output_type": "stream",
     "text": [
      "/usr/local/lib/python3.8/dist-packages/statsmodels/tsa/arima_model.py:472: FutureWarning: \n",
      "statsmodels.tsa.arima_model.ARMA and statsmodels.tsa.arima_model.ARIMA have\n",
      "been deprecated in favor of statsmodels.tsa.arima.model.ARIMA (note the .\n",
      "between arima and model) and\n",
      "statsmodels.tsa.SARIMAX. These will be removed after the 0.12 release.\n",
      "\n",
      "statsmodels.tsa.arima.model.ARIMA makes use of the statespace framework and\n",
      "is both well tested and maintained.\n",
      "\n",
      "To silence this warning and continue using ARMA and ARIMA until they are\n",
      "removed, use:\n",
      "\n",
      "import warnings\n",
      "warnings.filterwarnings('ignore', 'statsmodels.tsa.arima_model.ARMA',\n",
      "                        FutureWarning)\n",
      "warnings.filterwarnings('ignore', 'statsmodels.tsa.arima_model.ARIMA',\n",
      "                        FutureWarning)\n",
      "\n",
      "  warnings.warn(ARIMA_DEPRECATION_WARN, FutureWarning)\n"
     ]
    },
    {
     "name": "stdout",
     "output_type": "stream",
     "text": [
      "1 2 n Maybe not stationary\n"
     ]
    },
    {
     "name": "stderr",
     "output_type": "stream",
     "text": [
      "/usr/local/lib/python3.8/dist-packages/statsmodels/tsa/arima_model.py:472: FutureWarning: \n",
      "statsmodels.tsa.arima_model.ARMA and statsmodels.tsa.arima_model.ARIMA have\n",
      "been deprecated in favor of statsmodels.tsa.arima.model.ARIMA (note the .\n",
      "between arima and model) and\n",
      "statsmodels.tsa.SARIMAX. These will be removed after the 0.12 release.\n",
      "\n",
      "statsmodels.tsa.arima.model.ARIMA makes use of the statespace framework and\n",
      "is both well tested and maintained.\n",
      "\n",
      "To silence this warning and continue using ARMA and ARIMA until they are\n",
      "removed, use:\n",
      "\n",
      "import warnings\n",
      "warnings.filterwarnings('ignore', 'statsmodels.tsa.arima_model.ARMA',\n",
      "                        FutureWarning)\n",
      "warnings.filterwarnings('ignore', 'statsmodels.tsa.arima_model.ARIMA',\n",
      "                        FutureWarning)\n",
      "\n",
      "  warnings.warn(ARIMA_DEPRECATION_WARN, FutureWarning)\n"
     ]
    },
    {
     "name": "stdout",
     "output_type": "stream",
     "text": [
      "2 2 n Maybe not stationary\n"
     ]
    }
   ],
   "source": [
    "M = {}\n",
    "for p,q,trend in models:\n",
    "    try:\n",
    "        #fit an arma (for now without trend)\n",
    "        ft = ARMA(s1,order=(p,q)).fit(method='mle',trend=trend)\n",
    "        M[p,q,trend] = ft\n",
    "    except ValueError:\n",
    "        print(p,q,trend,'Maybe not stationary')"
   ]
  },
  {
   "cell_type": "code",
   "execution_count": null,
   "metadata": {},
   "outputs": [],
   "source": []
  },
  {
   "cell_type": "code",
   "execution_count": 88,
   "metadata": {},
   "outputs": [],
   "source": [
    "# trends model were rejected by the regressor."
   ]
  },
  {
   "cell_type": "code",
   "execution_count": 119,
   "metadata": {},
   "outputs": [],
   "source": [
    "AIC = pd.DataFrame( [(m,ft.aic) for m,ft in M.items()],columns=['model','AIC'] ) "
   ]
  },
  {
   "cell_type": "code",
   "execution_count": 120,
   "metadata": {},
   "outputs": [
    {
     "data": {
      "text/html": [
       "<div>\n",
       "<style scoped>\n",
       "    .dataframe tbody tr th:only-of-type {\n",
       "        vertical-align: middle;\n",
       "    }\n",
       "\n",
       "    .dataframe tbody tr th {\n",
       "        vertical-align: top;\n",
       "    }\n",
       "\n",
       "    .dataframe thead th {\n",
       "        text-align: right;\n",
       "    }\n",
       "</style>\n",
       "<table border=\"1\" class=\"dataframe\">\n",
       "  <thead>\n",
       "    <tr style=\"text-align: right;\">\n",
       "      <th></th>\n",
       "      <th>model</th>\n",
       "      <th>AIC</th>\n",
       "    </tr>\n",
       "  </thead>\n",
       "  <tbody>\n",
       "    <tr>\n",
       "      <th>0</th>\n",
       "      <td>(4, 0, nc)</td>\n",
       "      <td>28388.118040</td>\n",
       "    </tr>\n",
       "    <tr>\n",
       "      <th>1</th>\n",
       "      <td>(1, 1, nc)</td>\n",
       "      <td>28575.712179</td>\n",
       "    </tr>\n",
       "    <tr>\n",
       "      <th>2</th>\n",
       "      <td>(2, 1, nc)</td>\n",
       "      <td>28446.828182</td>\n",
       "    </tr>\n",
       "    <tr>\n",
       "      <th>3</th>\n",
       "      <td>(1, 2, nc)</td>\n",
       "      <td>28432.971367</td>\n",
       "    </tr>\n",
       "    <tr>\n",
       "      <th>4</th>\n",
       "      <td>(2, 2, nc)</td>\n",
       "      <td>28409.276309</td>\n",
       "    </tr>\n",
       "  </tbody>\n",
       "</table>\n",
       "</div>"
      ],
      "text/plain": [
       "        model           AIC\n",
       "0  (4, 0, nc)  28388.118040\n",
       "1  (1, 1, nc)  28575.712179\n",
       "2  (2, 1, nc)  28446.828182\n",
       "3  (1, 2, nc)  28432.971367\n",
       "4  (2, 2, nc)  28409.276309"
      ]
     },
     "execution_count": 120,
     "metadata": {},
     "output_type": "execute_result"
    }
   ],
   "source": [
    "AIC"
   ]
  },
  {
   "cell_type": "code",
   "execution_count": 121,
   "metadata": {},
   "outputs": [
    {
     "data": {
      "text/html": [
       "<div>\n",
       "<style scoped>\n",
       "    .dataframe tbody tr th:only-of-type {\n",
       "        vertical-align: middle;\n",
       "    }\n",
       "\n",
       "    .dataframe tbody tr th {\n",
       "        vertical-align: top;\n",
       "    }\n",
       "\n",
       "    .dataframe thead th {\n",
       "        text-align: right;\n",
       "    }\n",
       "</style>\n",
       "<table border=\"1\" class=\"dataframe\">\n",
       "  <thead>\n",
       "    <tr style=\"text-align: right;\">\n",
       "      <th></th>\n",
       "      <th>model</th>\n",
       "      <th>AIC</th>\n",
       "      <th>dAIC</th>\n",
       "    </tr>\n",
       "  </thead>\n",
       "  <tbody>\n",
       "    <tr>\n",
       "      <th>0</th>\n",
       "      <td>(4, 0, nc)</td>\n",
       "      <td>28388.118040</td>\n",
       "      <td>0.000000</td>\n",
       "    </tr>\n",
       "    <tr>\n",
       "      <th>1</th>\n",
       "      <td>(1, 1, nc)</td>\n",
       "      <td>28575.712179</td>\n",
       "      <td>187.594139</td>\n",
       "    </tr>\n",
       "    <tr>\n",
       "      <th>2</th>\n",
       "      <td>(2, 1, nc)</td>\n",
       "      <td>28446.828182</td>\n",
       "      <td>58.710142</td>\n",
       "    </tr>\n",
       "    <tr>\n",
       "      <th>3</th>\n",
       "      <td>(1, 2, nc)</td>\n",
       "      <td>28432.971367</td>\n",
       "      <td>44.853327</td>\n",
       "    </tr>\n",
       "    <tr>\n",
       "      <th>4</th>\n",
       "      <td>(2, 2, nc)</td>\n",
       "      <td>28409.276309</td>\n",
       "      <td>21.158269</td>\n",
       "    </tr>\n",
       "  </tbody>\n",
       "</table>\n",
       "</div>"
      ],
      "text/plain": [
       "        model           AIC        dAIC\n",
       "0  (4, 0, nc)  28388.118040    0.000000\n",
       "1  (1, 1, nc)  28575.712179  187.594139\n",
       "2  (2, 1, nc)  28446.828182   58.710142\n",
       "3  (1, 2, nc)  28432.971367   44.853327\n",
       "4  (2, 2, nc)  28409.276309   21.158269"
      ]
     },
     "execution_count": 121,
     "metadata": {},
     "output_type": "execute_result"
    }
   ],
   "source": [
    "#AIC = AIC.assign(pvalue=np.exp((AIC.AIC.min()-AIC.AIC)/2))\n",
    "AIC = AIC.assign(dAIC=(AIC.AIC-AIC.AIC.min()))\n",
    "\n",
    "AIC"
   ]
  },
  {
   "cell_type": "code",
   "execution_count": null,
   "metadata": {},
   "outputs": [],
   "source": []
  },
  {
   "cell_type": "code",
   "execution_count": 90,
   "metadata": {},
   "outputs": [],
   "source": [
    "#Only model 0 is significant. Let inspect the parameters"
   ]
  },
  {
   "cell_type": "code",
   "execution_count": 122,
   "metadata": {},
   "outputs": [],
   "source": [
    "p,q,trend = AIC.model[0]"
   ]
  },
  {
   "cell_type": "code",
   "execution_count": 123,
   "metadata": {},
   "outputs": [
    {
     "data": {
      "text/html": [
       "<table class=\"simpletable\">\n",
       "<caption>ARMA Model Results</caption>\n",
       "<tr>\n",
       "  <th>Dep. Variable:</th>         <td>y</td>        <th>  No. Observations:  </th>    <td>10000</td>  \n",
       "</tr>\n",
       "<tr>\n",
       "  <th>Model:</th>            <td>ARMA(4, 0)</td>    <th>  Log Likelihood     </th> <td>-14189.059</td>\n",
       "</tr>\n",
       "<tr>\n",
       "  <th>Method:</th>               <td>mle</td>       <th>  S.D. of innovations</th>    <td>1.000</td>  \n",
       "</tr>\n",
       "<tr>\n",
       "  <th>Date:</th>          <td>Fri, 07 May 2021</td> <th>  AIC                </th>  <td>28388.118</td>\n",
       "</tr>\n",
       "<tr>\n",
       "  <th>Time:</th>              <td>11:17:13</td>     <th>  BIC                </th>  <td>28424.170</td>\n",
       "</tr>\n",
       "<tr>\n",
       "  <th>Sample:</th>                <td>0</td>        <th>  HQIC               </th>  <td>28400.321</td>\n",
       "</tr>\n",
       "<tr>\n",
       "  <th></th>                       <td> </td>        <th>                     </th>      <td> </td>    \n",
       "</tr>\n",
       "</table>\n",
       "<table class=\"simpletable\">\n",
       "<tr>\n",
       "     <td></td>        <th>coef</th>     <th>std err</th>      <th>z</th>      <th>P>|z|</th>  <th>[0.025</th>    <th>0.975]</th>  \n",
       "</tr>\n",
       "<tr>\n",
       "  <th>ar.L1.y</th> <td>    0.8956</td> <td>    0.010</td> <td>   89.904</td> <td> 0.000</td> <td>    0.876</td> <td>    0.915</td>\n",
       "</tr>\n",
       "<tr>\n",
       "  <th>ar.L2.y</th> <td>   -0.1961</td> <td>    0.013</td> <td>  -14.797</td> <td> 0.000</td> <td>   -0.222</td> <td>   -0.170</td>\n",
       "</tr>\n",
       "<tr>\n",
       "  <th>ar.L3.y</th> <td>    0.1955</td> <td>    0.013</td> <td>   14.753</td> <td> 0.000</td> <td>    0.170</td> <td>    0.221</td>\n",
       "</tr>\n",
       "<tr>\n",
       "  <th>ar.L4.y</th> <td>   -0.0873</td> <td>    0.010</td> <td>   -8.761</td> <td> 0.000</td> <td>   -0.107</td> <td>   -0.068</td>\n",
       "</tr>\n",
       "</table>\n",
       "<table class=\"simpletable\">\n",
       "<caption>Roots</caption>\n",
       "<tr>\n",
       "    <td></td>   <th>            Real</th>  <th>         Imaginary</th> <th>         Modulus</th>  <th>        Frequency</th>\n",
       "</tr>\n",
       "<tr>\n",
       "  <th>AR.1</th> <td>          -0.6505</td> <td>          -1.8809j</td> <td>           1.9902</td> <td>          -0.3030</td>\n",
       "</tr>\n",
       "<tr>\n",
       "  <th>AR.2</th> <td>          -0.6505</td> <td>          +1.8809j</td> <td>           1.9902</td> <td>           0.3030</td>\n",
       "</tr>\n",
       "<tr>\n",
       "  <th>AR.3</th> <td>           1.2787</td> <td>          -0.0000j</td> <td>           1.2787</td> <td>          -0.0000</td>\n",
       "</tr>\n",
       "<tr>\n",
       "  <th>AR.4</th> <td>           2.2625</td> <td>          -0.0000j</td> <td>           2.2625</td> <td>          -0.0000</td>\n",
       "</tr>\n",
       "</table>"
      ],
      "text/plain": [
       "<class 'statsmodels.iolib.summary.Summary'>\n",
       "\"\"\"\n",
       "                              ARMA Model Results                              \n",
       "==============================================================================\n",
       "Dep. Variable:                      y   No. Observations:                10000\n",
       "Model:                     ARMA(4, 0)   Log Likelihood              -14189.059\n",
       "Method:                           mle   S.D. of innovations              1.000\n",
       "Date:                Fri, 07 May 2021   AIC                          28388.118\n",
       "Time:                        11:17:13   BIC                          28424.170\n",
       "Sample:                             0   HQIC                         28400.321\n",
       "                                                                              \n",
       "==============================================================================\n",
       "                 coef    std err          z      P>|z|      [0.025      0.975]\n",
       "------------------------------------------------------------------------------\n",
       "ar.L1.y        0.8956      0.010     89.904      0.000       0.876       0.915\n",
       "ar.L2.y       -0.1961      0.013    -14.797      0.000      -0.222      -0.170\n",
       "ar.L3.y        0.1955      0.013     14.753      0.000       0.170       0.221\n",
       "ar.L4.y       -0.0873      0.010     -8.761      0.000      -0.107      -0.068\n",
       "                                    Roots                                    \n",
       "=============================================================================\n",
       "                  Real          Imaginary           Modulus         Frequency\n",
       "-----------------------------------------------------------------------------\n",
       "AR.1           -0.6505           -1.8809j            1.9902           -0.3030\n",
       "AR.2           -0.6505           +1.8809j            1.9902            0.3030\n",
       "AR.3            1.2787           -0.0000j            1.2787           -0.0000\n",
       "AR.4            2.2625           -0.0000j            2.2625           -0.0000\n",
       "-----------------------------------------------------------------------------\n",
       "\"\"\""
      ]
     },
     "execution_count": 123,
     "metadata": {},
     "output_type": "execute_result"
    }
   ],
   "source": [
    "M[p,q,trend].summary()"
   ]
  },
  {
   "cell_type": "code",
   "execution_count": null,
   "metadata": {},
   "outputs": [],
   "source": []
  },
  {
   "cell_type": "code",
   "execution_count": 124,
   "metadata": {},
   "outputs": [],
   "source": [
    "#All 4 AR paramters are significant. Let us check the residue"
   ]
  },
  {
   "cell_type": "code",
   "execution_count": 159,
   "metadata": {},
   "outputs": [],
   "source": [
    "r = M[p,q,trend].resid"
   ]
  },
  {
   "cell_type": "code",
   "execution_count": 160,
   "metadata": {},
   "outputs": [
    {
     "data": {
      "text/plain": [
       "array([ 0.57604155,  0.52344828, -0.46582434, ..., -0.31998963,\n",
       "       -0.45668907,  0.16621358])"
      ]
     },
     "execution_count": 160,
     "metadata": {},
     "output_type": "execute_result"
    }
   ],
   "source": [
    "r"
   ]
  },
  {
   "cell_type": "code",
   "execution_count": 130,
   "metadata": {},
   "outputs": [
    {
     "data": {
      "image/png": "[encoded data removed]",
      "text/plain": [
       "<Figure size 432x288 with 1 Axes>"
      ]
     },
     "metadata": {
      "needs_background": "light"
     },
     "output_type": "display_data"
    }
   ],
   "source": [
    "sm.graphics.tsa.plot_acf(r, lags=20)\n",
    "plt.xlabel(r'$lags$',fontsize=16)\n",
    "plt.ylabel('ACF [residue]',fontsize=16)\n",
    "plt.tick_params(labelsize=14)\n",
    "plt.show()"
   ]
  },
  {
   "cell_type": "code",
   "execution_count": 161,
   "metadata": {},
   "outputs": [
    {
     "data": {
      "text/html": [
       "<div>\n",
       "<style scoped>\n",
       "    .dataframe tbody tr th:only-of-type {\n",
       "        vertical-align: middle;\n",
       "    }\n",
       "\n",
       "    .dataframe tbody tr th {\n",
       "        vertical-align: top;\n",
       "    }\n",
       "\n",
       "    .dataframe thead th {\n",
       "        text-align: right;\n",
       "    }\n",
       "</style>\n",
       "<table border=\"1\" class=\"dataframe\">\n",
       "  <thead>\n",
       "    <tr style=\"text-align: right;\">\n",
       "      <th></th>\n",
       "      <th>lb_stat</th>\n",
       "      <th>lb_pvalue</th>\n",
       "    </tr>\n",
       "  </thead>\n",
       "  <tbody>\n",
       "    <tr>\n",
       "      <th>5</th>\n",
       "      <td>0.257765</td>\n",
       "      <td>0.61166</td>\n",
       "    </tr>\n",
       "  </tbody>\n",
       "</table>\n",
       "</div>"
      ],
      "text/plain": [
       "    lb_stat  lb_pvalue\n",
       "5  0.257765    0.61166"
      ]
     },
     "execution_count": 161,
     "metadata": {},
     "output_type": "execute_result"
    }
   ],
   "source": [
    "# they seems not significant, let us check with ljungbox\n",
    "\n",
    "acorr_ljungbox(r,lags=[p+q+1],model_df=p+q,return_df=True)"
   ]
  },
  {
   "cell_type": "code",
   "execution_count": 97,
   "metadata": {},
   "outputs": [],
   "source": [
    "# The pvalue is consistent with a white noise. The model 0 can be accepted"
   ]
  },
  {
   "cell_type": "markdown",
   "metadata": {},
   "source": [
    "# Time series S2 "
   ]
  },
  {
   "cell_type": "code",
   "execution_count": 134,
   "metadata": {},
   "outputs": [
    {
     "data": {
      "text/plain": [
       "[<matplotlib.lines.Line2D at 0x7f3815ca61f0>]"
      ]
     },
     "execution_count": 134,
     "metadata": {},
     "output_type": "execute_result"
    },
    {
     "data": {
      "image/png": "[encoded data removed]",
      "text/plain": [
       "<Figure size 432x288 with 1 Axes>"
      ]
     },
     "metadata": {
      "needs_background": "light"
     },
     "output_type": "display_data"
    }
   ],
   "source": [
    "plt.plot(s2)"
   ]
  },
  {
   "cell_type": "code",
   "execution_count": 135,
   "metadata": {},
   "outputs": [],
   "source": [
    "#it looks stationary"
   ]
  },
  {
   "cell_type": "code",
   "execution_count": 136,
   "metadata": {},
   "outputs": [
    {
     "data": {
      "image/png": "[encoded data removed]",
      "text/plain": [
       "<Figure size 432x288 with 1 Axes>"
      ]
     },
     "metadata": {
      "needs_background": "light"
     },
     "output_type": "display_data"
    }
   ],
   "source": [
    "sm.graphics.tsa.plot_acf(s2, lags=20)\n",
    "plt.xlabel(r'$lags$',fontsize=16)\n",
    "plt.ylabel('ACF',fontsize=16)\n",
    "plt.tick_params(labelsize=14)\n",
    "plt.show()"
   ]
  },
  {
   "cell_type": "code",
   "execution_count": 137,
   "metadata": {},
   "outputs": [
    {
     "data": {
      "image/png": "[encoded data removed]",
      "text/plain": [
       "<Figure size 432x288 with 1 Axes>"
      ]
     },
     "metadata": {
      "needs_background": "light"
     },
     "output_type": "display_data"
    }
   ],
   "source": [
    "sm.graphics.tsa.plot_pacf(s2, lags=20)\n",
    "plt.xlabel(r'$lags$',fontsize=16)\n",
    "plt.ylabel('PACF',fontsize=16)\n",
    "plt.tick_params(labelsize=14)\n",
    "plt.show()"
   ]
  },
  {
   "cell_type": "code",
   "execution_count": 138,
   "metadata": {},
   "outputs": [],
   "source": [
    "# We can reject pure MA(q) model (unless we want to consider q>15, but it is too complex)\n",
    "# ACF for h small seem to decrease slower then for h large. It might be an indication of an ARMA\n",
    "\n",
    "# Possible models are: AR(4),ARMA(1,1),ARMA(2,1),ARMA(1,2),ARMA(2,2)\n",
    "# Maybe with trend"
   ]
  },
  {
   "cell_type": "code",
   "execution_count": 143,
   "metadata": {},
   "outputs": [],
   "source": [
    "models = [(4,0,'n'),(4,0,'nc'),\n",
    "          (1,1,'n'),(1,1,'nc'),\n",
    "          (2,1,'n'),(2,1,'nc'),\n",
    "          (1,2,'n'),(1,2,'nc'),\n",
    "          (2,2,'n'),(2,2,'nc')]"
   ]
  },
  {
   "cell_type": "code",
   "execution_count": 144,
   "metadata": {},
   "outputs": [
    {
     "name": "stderr",
     "output_type": "stream",
     "text": [
      "/usr/local/lib/python3.8/dist-packages/statsmodels/tsa/arima_model.py:472: FutureWarning: \n",
      "statsmodels.tsa.arima_model.ARMA and statsmodels.tsa.arima_model.ARIMA have\n",
      "been deprecated in favor of statsmodels.tsa.arima.model.ARIMA (note the .\n",
      "between arima and model) and\n",
      "statsmodels.tsa.SARIMAX. These will be removed after the 0.12 release.\n",
      "\n",
      "statsmodels.tsa.arima.model.ARIMA makes use of the statespace framework and\n",
      "is both well tested and maintained.\n",
      "\n",
      "To silence this warning and continue using ARMA and ARIMA until they are\n",
      "removed, use:\n",
      "\n",
      "import warnings\n",
      "warnings.filterwarnings('ignore', 'statsmodels.tsa.arima_model.ARMA',\n",
      "                        FutureWarning)\n",
      "warnings.filterwarnings('ignore', 'statsmodels.tsa.arima_model.ARIMA',\n",
      "                        FutureWarning)\n",
      "\n",
      "  warnings.warn(ARIMA_DEPRECATION_WARN, FutureWarning)\n"
     ]
    },
    {
     "name": "stdout",
     "output_type": "stream",
     "text": [
      "4 0 n Maybe not stationary\n",
      "1 1 n Maybe not stationary\n"
     ]
    },
    {
     "name": "stderr",
     "output_type": "stream",
     "text": [
      "/usr/local/lib/python3.8/dist-packages/statsmodels/tsa/arima_model.py:472: FutureWarning: \n",
      "statsmodels.tsa.arima_model.ARMA and statsmodels.tsa.arima_model.ARIMA have\n",
      "been deprecated in favor of statsmodels.tsa.arima.model.ARIMA (note the .\n",
      "between arima and model) and\n",
      "statsmodels.tsa.SARIMAX. These will be removed after the 0.12 release.\n",
      "\n",
      "statsmodels.tsa.arima.model.ARIMA makes use of the statespace framework and\n",
      "is both well tested and maintained.\n",
      "\n",
      "To silence this warning and continue using ARMA and ARIMA until they are\n",
      "removed, use:\n",
      "\n",
      "import warnings\n",
      "warnings.filterwarnings('ignore', 'statsmodels.tsa.arima_model.ARMA',\n",
      "                        FutureWarning)\n",
      "warnings.filterwarnings('ignore', 'statsmodels.tsa.arima_model.ARIMA',\n",
      "                        FutureWarning)\n",
      "\n",
      "  warnings.warn(ARIMA_DEPRECATION_WARN, FutureWarning)\n"
     ]
    },
    {
     "name": "stdout",
     "output_type": "stream",
     "text": [
      "2 1 n Maybe not stationary\n"
     ]
    },
    {
     "name": "stderr",
     "output_type": "stream",
     "text": [
      "/usr/local/lib/python3.8/dist-packages/statsmodels/tsa/arima_model.py:472: FutureWarning: \n",
      "statsmodels.tsa.arima_model.ARMA and statsmodels.tsa.arima_model.ARIMA have\n",
      "been deprecated in favor of statsmodels.tsa.arima.model.ARIMA (note the .\n",
      "between arima and model) and\n",
      "statsmodels.tsa.SARIMAX. These will be removed after the 0.12 release.\n",
      "\n",
      "statsmodels.tsa.arima.model.ARIMA makes use of the statespace framework and\n",
      "is both well tested and maintained.\n",
      "\n",
      "To silence this warning and continue using ARMA and ARIMA until they are\n",
      "removed, use:\n",
      "\n",
      "import warnings\n",
      "warnings.filterwarnings('ignore', 'statsmodels.tsa.arima_model.ARMA',\n",
      "                        FutureWarning)\n",
      "warnings.filterwarnings('ignore', 'statsmodels.tsa.arima_model.ARIMA',\n",
      "                        FutureWarning)\n",
      "\n",
      "  warnings.warn(ARIMA_DEPRECATION_WARN, FutureWarning)\n"
     ]
    },
    {
     "name": "stdout",
     "output_type": "stream",
     "text": [
      "1 2 n Maybe not stationary\n"
     ]
    },
    {
     "name": "stderr",
     "output_type": "stream",
     "text": [
      "/usr/local/lib/python3.8/dist-packages/statsmodels/tsa/arima_model.py:472: FutureWarning: \n",
      "statsmodels.tsa.arima_model.ARMA and statsmodels.tsa.arima_model.ARIMA have\n",
      "been deprecated in favor of statsmodels.tsa.arima.model.ARIMA (note the .\n",
      "between arima and model) and\n",
      "statsmodels.tsa.SARIMAX. These will be removed after the 0.12 release.\n",
      "\n",
      "statsmodels.tsa.arima.model.ARIMA makes use of the statespace framework and\n",
      "is both well tested and maintained.\n",
      "\n",
      "To silence this warning and continue using ARMA and ARIMA until they are\n",
      "removed, use:\n",
      "\n",
      "import warnings\n",
      "warnings.filterwarnings('ignore', 'statsmodels.tsa.arima_model.ARMA',\n",
      "                        FutureWarning)\n",
      "warnings.filterwarnings('ignore', 'statsmodels.tsa.arima_model.ARIMA',\n",
      "                        FutureWarning)\n",
      "\n",
      "  warnings.warn(ARIMA_DEPRECATION_WARN, FutureWarning)\n"
     ]
    },
    {
     "name": "stdout",
     "output_type": "stream",
     "text": [
      "2 2 n Maybe not stationary\n"
     ]
    }
   ],
   "source": [
    "M = {}\n",
    "for p,q,trend in models:\n",
    "    try:\n",
    "        #fit an arma (for now without trend)\n",
    "        ft = ARMA(s2,(p,q)).fit(method='mle',trend=trend)\n",
    "        M[p,q,trend] = ft\n",
    "    except ValueError:\n",
    "        print(p,q,trend,'Maybe not stationary')"
   ]
  },
  {
   "cell_type": "code",
   "execution_count": 145,
   "metadata": {},
   "outputs": [],
   "source": [
    "# trends model were rejected by the regressor."
   ]
  },
  {
   "cell_type": "code",
   "execution_count": 146,
   "metadata": {},
   "outputs": [
    {
     "data": {
      "text/html": [
       "<div>\n",
       "<style scoped>\n",
       "    .dataframe tbody tr th:only-of-type {\n",
       "        vertical-align: middle;\n",
       "    }\n",
       "\n",
       "    .dataframe tbody tr th {\n",
       "        vertical-align: top;\n",
       "    }\n",
       "\n",
       "    .dataframe thead th {\n",
       "        text-align: right;\n",
       "    }\n",
       "</style>\n",
       "<table border=\"1\" class=\"dataframe\">\n",
       "  <thead>\n",
       "    <tr style=\"text-align: right;\">\n",
       "      <th></th>\n",
       "      <th>model</th>\n",
       "      <th>AIC</th>\n",
       "      <th>dAIC</th>\n",
       "    </tr>\n",
       "  </thead>\n",
       "  <tbody>\n",
       "    <tr>\n",
       "      <th>0</th>\n",
       "      <td>(4, 0, nc)</td>\n",
       "      <td>28413.540184</td>\n",
       "      <td>160.623292</td>\n",
       "    </tr>\n",
       "    <tr>\n",
       "      <th>1</th>\n",
       "      <td>(1, 1, nc)</td>\n",
       "      <td>28941.680014</td>\n",
       "      <td>688.763123</td>\n",
       "    </tr>\n",
       "    <tr>\n",
       "      <th>2</th>\n",
       "      <td>(2, 1, nc)</td>\n",
       "      <td>28610.072002</td>\n",
       "      <td>357.155110</td>\n",
       "    </tr>\n",
       "    <tr>\n",
       "      <th>3</th>\n",
       "      <td>(1, 2, nc)</td>\n",
       "      <td>28316.020740</td>\n",
       "      <td>63.103849</td>\n",
       "    </tr>\n",
       "    <tr>\n",
       "      <th>4</th>\n",
       "      <td>(2, 2, nc)</td>\n",
       "      <td>28252.916891</td>\n",
       "      <td>0.000000</td>\n",
       "    </tr>\n",
       "  </tbody>\n",
       "</table>\n",
       "</div>"
      ],
      "text/plain": [
       "        model           AIC        dAIC\n",
       "0  (4, 0, nc)  28413.540184  160.623292\n",
       "1  (1, 1, nc)  28941.680014  688.763123\n",
       "2  (2, 1, nc)  28610.072002  357.155110\n",
       "3  (1, 2, nc)  28316.020740   63.103849\n",
       "4  (2, 2, nc)  28252.916891    0.000000"
      ]
     },
     "execution_count": 146,
     "metadata": {},
     "output_type": "execute_result"
    }
   ],
   "source": [
    "AIC = pd.DataFrame( [(m,ft.aic) for m,ft in M.items()],columns=['model','AIC'] ) \n",
    "\n",
    "#AIC = AIC.assign(pvalue=np.exp((AIC.AIC.min()-AIC.AIC)/2))\n",
    "AIC = AIC.assign(dAIC=(AIC.AIC-AIC.AIC.min()))\n",
    "\n",
    "\n",
    "AIC"
   ]
  },
  {
   "cell_type": "code",
   "execution_count": 147,
   "metadata": {},
   "outputs": [],
   "source": [
    "#Only model 4 is significant. Let inspect the parameters"
   ]
  },
  {
   "cell_type": "code",
   "execution_count": 148,
   "metadata": {},
   "outputs": [
    {
     "data": {
      "text/html": [
       "<table class=\"simpletable\">\n",
       "<caption>ARMA Model Results</caption>\n",
       "<tr>\n",
       "  <th>Dep. Variable:</th>         <td>y</td>        <th>  No. Observations:  </th>    <td>10000</td>  \n",
       "</tr>\n",
       "<tr>\n",
       "  <th>Model:</th>            <td>ARMA(2, 2)</td>    <th>  Log Likelihood     </th> <td>-14121.458</td>\n",
       "</tr>\n",
       "<tr>\n",
       "  <th>Method:</th>               <td>mle</td>       <th>  S.D. of innovations</th>    <td>0.993</td>  \n",
       "</tr>\n",
       "<tr>\n",
       "  <th>Date:</th>          <td>Fri, 07 May 2021</td> <th>  AIC                </th>  <td>28252.917</td>\n",
       "</tr>\n",
       "<tr>\n",
       "  <th>Time:</th>              <td>11:29:31</td>     <th>  BIC                </th>  <td>28288.969</td>\n",
       "</tr>\n",
       "<tr>\n",
       "  <th>Sample:</th>                <td>0</td>        <th>  HQIC               </th>  <td>28265.120</td>\n",
       "</tr>\n",
       "<tr>\n",
       "  <th></th>                       <td> </td>        <th>                     </th>      <td> </td>    \n",
       "</tr>\n",
       "</table>\n",
       "<table class=\"simpletable\">\n",
       "<tr>\n",
       "     <td></td>        <th>coef</th>     <th>std err</th>      <th>z</th>      <th>P>|z|</th>  <th>[0.025</th>    <th>0.975]</th>  \n",
       "</tr>\n",
       "<tr>\n",
       "  <th>ar.L1.y</th> <td>    0.4972</td> <td>    0.031</td> <td>   16.039</td> <td> 0.000</td> <td>    0.436</td> <td>    0.558</td>\n",
       "</tr>\n",
       "<tr>\n",
       "  <th>ar.L2.y</th> <td>    0.2450</td> <td>    0.028</td> <td>    8.712</td> <td> 0.000</td> <td>    0.190</td> <td>    0.300</td>\n",
       "</tr>\n",
       "<tr>\n",
       "  <th>ma.L1.y</th> <td>    0.7935</td> <td>    0.029</td> <td>   27.331</td> <td> 0.000</td> <td>    0.737</td> <td>    0.850</td>\n",
       "</tr>\n",
       "<tr>\n",
       "  <th>ma.L2.y</th> <td>    0.3940</td> <td>    0.013</td> <td>   31.457</td> <td> 0.000</td> <td>    0.369</td> <td>    0.419</td>\n",
       "</tr>\n",
       "</table>\n",
       "<table class=\"simpletable\">\n",
       "<caption>Roots</caption>\n",
       "<tr>\n",
       "    <td></td>   <th>            Real</th>  <th>         Imaginary</th> <th>         Modulus</th>  <th>        Frequency</th>\n",
       "</tr>\n",
       "<tr>\n",
       "  <th>AR.1</th> <td>           1.2460</td> <td>          +0.0000j</td> <td>           1.2460</td> <td>           0.0000</td>\n",
       "</tr>\n",
       "<tr>\n",
       "  <th>AR.2</th> <td>          -3.2752</td> <td>          +0.0000j</td> <td>           3.2752</td> <td>           0.5000</td>\n",
       "</tr>\n",
       "<tr>\n",
       "  <th>MA.1</th> <td>          -1.0070</td> <td>          -1.2345j</td> <td>           1.5932</td> <td>          -0.3589</td>\n",
       "</tr>\n",
       "<tr>\n",
       "  <th>MA.2</th> <td>          -1.0070</td> <td>          +1.2345j</td> <td>           1.5932</td> <td>           0.3589</td>\n",
       "</tr>\n",
       "</table>"
      ],
      "text/plain": [
       "<class 'statsmodels.iolib.summary.Summary'>\n",
       "\"\"\"\n",
       "                              ARMA Model Results                              \n",
       "==============================================================================\n",
       "Dep. Variable:                      y   No. Observations:                10000\n",
       "Model:                     ARMA(2, 2)   Log Likelihood              -14121.458\n",
       "Method:                           mle   S.D. of innovations              0.993\n",
       "Date:                Fri, 07 May 2021   AIC                          28252.917\n",
       "Time:                        11:29:31   BIC                          28288.969\n",
       "Sample:                             0   HQIC                         28265.120\n",
       "                                                                              \n",
       "==============================================================================\n",
       "                 coef    std err          z      P>|z|      [0.025      0.975]\n",
       "------------------------------------------------------------------------------\n",
       "ar.L1.y        0.4972      0.031     16.039      0.000       0.436       0.558\n",
       "ar.L2.y        0.2450      0.028      8.712      0.000       0.190       0.300\n",
       "ma.L1.y        0.7935      0.029     27.331      0.000       0.737       0.850\n",
       "ma.L2.y        0.3940      0.013     31.457      0.000       0.369       0.419\n",
       "                                    Roots                                    \n",
       "=============================================================================\n",
       "                  Real          Imaginary           Modulus         Frequency\n",
       "-----------------------------------------------------------------------------\n",
       "AR.1            1.2460           +0.0000j            1.2460            0.0000\n",
       "AR.2           -3.2752           +0.0000j            3.2752            0.5000\n",
       "MA.1           -1.0070           -1.2345j            1.5932           -0.3589\n",
       "MA.2           -1.0070           +1.2345j            1.5932            0.3589\n",
       "-----------------------------------------------------------------------------\n",
       "\"\"\""
      ]
     },
     "execution_count": 148,
     "metadata": {},
     "output_type": "execute_result"
    }
   ],
   "source": [
    "p,q,trend = AIC.model[4]\n",
    "M[p,q,trend].summary()"
   ]
  },
  {
   "cell_type": "code",
   "execution_count": 149,
   "metadata": {},
   "outputs": [],
   "source": [
    "#All 2 AR and 2 MA paramters are significant. Let us check the residue"
   ]
  },
  {
   "cell_type": "code",
   "execution_count": 150,
   "metadata": {},
   "outputs": [],
   "source": [
    "r = M[p,q,trend].resid"
   ]
  },
  {
   "cell_type": "code",
   "execution_count": 151,
   "metadata": {},
   "outputs": [
    {
     "data": {
      "image/png": "[encoded data removed]",
      "text/plain": [
       "<Figure size 432x288 with 1 Axes>"
      ]
     },
     "metadata": {
      "needs_background": "light"
     },
     "output_type": "display_data"
    }
   ],
   "source": [
    "sm.graphics.tsa.plot_acf(r, lags=20)\n",
    "plt.xlabel(r'$lags$',fontsize=16)\n",
    "plt.ylabel('ACF [residue]',fontsize=16)\n",
    "plt.tick_params(labelsize=14)\n",
    "plt.show()"
   ]
  },
  {
   "cell_type": "code",
   "execution_count": 152,
   "metadata": {},
   "outputs": [
    {
     "data": {
      "text/html": [
       "<div>\n",
       "<style scoped>\n",
       "    .dataframe tbody tr th:only-of-type {\n",
       "        vertical-align: middle;\n",
       "    }\n",
       "\n",
       "    .dataframe tbody tr th {\n",
       "        vertical-align: top;\n",
       "    }\n",
       "\n",
       "    .dataframe thead th {\n",
       "        text-align: right;\n",
       "    }\n",
       "</style>\n",
       "<table border=\"1\" class=\"dataframe\">\n",
       "  <thead>\n",
       "    <tr style=\"text-align: right;\">\n",
       "      <th></th>\n",
       "      <th>lb_stat</th>\n",
       "      <th>lb_pvalue</th>\n",
       "    </tr>\n",
       "  </thead>\n",
       "  <tbody>\n",
       "    <tr>\n",
       "      <th>5</th>\n",
       "      <td>0.257765</td>\n",
       "      <td>0.61166</td>\n",
       "    </tr>\n",
       "  </tbody>\n",
       "</table>\n",
       "</div>"
      ],
      "text/plain": [
       "    lb_stat  lb_pvalue\n",
       "5  0.257765    0.61166"
      ]
     },
     "execution_count": 152,
     "metadata": {},
     "output_type": "execute_result"
    }
   ],
   "source": [
    "# they seems not significant, let us check with ljungbox\n",
    "\n",
    "acorr_ljungbox(r,lags=[p+q+1],model_df=p+q,return_df=True)"
   ]
  },
  {
   "cell_type": "code",
   "execution_count": null,
   "metadata": {},
   "outputs": [],
   "source": []
  },
  {
   "cell_type": "code",
   "execution_count": 267,
   "metadata": {},
   "outputs": [],
   "source": [
    "# The pvalue is consistent with a white noise. The model 4 can be accepted"
   ]
  },
  {
   "cell_type": "markdown",
   "metadata": {},
   "source": [
    "# SIMULATE AN ARMA"
   ]
  },
  {
   "cell_type": "code",
   "execution_count": 74,
   "metadata": {},
   "outputs": [],
   "source": [
    "import numpy as np\n",
    "import statsmodels.api as sm\n",
    "\n",
    "#Just to have the same time-series for all the class\n",
    "np.random.seed(0)\n",
    "\n",
    "arparams = np.array([0.7,-0.2,0.2])\n",
    "maparams = np.array([0.4])\n",
    "ar = np.r_[1, -arparams] # add zero-lag and negate\n",
    "ma = np.r_[1, maparams] # add zero-lag\n",
    "arma_process = sm.tsa.ArmaProcess(ar, ma)\n",
    "\n",
    "dump=100\n",
    "T=600\n",
    "s = sm.tsa.arma_generate_sample(ar, ma,T,burnin=dump )"
   ]
  },
  {
   "cell_type": "code",
   "execution_count": 75,
   "metadata": {},
   "outputs": [
    {
     "data": {
      "text/plain": [
       "[<matplotlib.lines.Line2D at 0x7f3818953190>]"
      ]
     },
     "execution_count": 75,
     "metadata": {},
     "output_type": "execute_result"
    },
    {
     "data": {
      "image/png": "[encoded data removed]",
      "text/plain": [
       "<Figure size 432x288 with 1 Axes>"
      ]
     },
     "metadata": {
      "needs_background": "light"
     },
     "output_type": "display_data"
    }
   ],
   "source": [
    "plt.plot(s)"
   ]
  },
  {
   "cell_type": "code",
   "execution_count": 270,
   "metadata": {},
   "outputs": [
    {
     "data": {
      "image/png": "[encoded data removed]",
      "text/plain": [
       "<Figure size 432x288 with 1 Axes>"
      ]
     },
     "metadata": {
      "needs_background": "light"
     },
     "output_type": "display_data"
    }
   ],
   "source": [
    "sm.graphics.tsa.plot_acf(s, lags=20)\n",
    "plt.xlabel(r'$lags$',fontsize=16)\n",
    "plt.ylabel('ACF',fontsize=16)\n",
    "plt.tick_params(labelsize=14)\n",
    "plt.show()"
   ]
  },
  {
   "cell_type": "code",
   "execution_count": 271,
   "metadata": {},
   "outputs": [
    {
     "data": {
      "image/png": "[encoded data removed]",
      "text/plain": [
       "<Figure size 432x288 with 1 Axes>"
      ]
     },
     "metadata": {
      "needs_background": "light"
     },
     "output_type": "display_data"
    }
   ],
   "source": [
    "sm.graphics.tsa.plot_pacf(s, lags=20)\n",
    "plt.xlabel(r'$lags$',fontsize=16)\n",
    "plt.ylabel('PACF',fontsize=16)\n",
    "plt.tick_params(labelsize=14)\n",
    "plt.show()"
   ]
  },
  {
   "cell_type": "code",
   "execution_count": 272,
   "metadata": {},
   "outputs": [],
   "source": [
    "#Possible models AR(4), or complex ARMA. No pure MA"
   ]
  },
  {
   "cell_type": "code",
   "execution_count": 273,
   "metadata": {},
   "outputs": [],
   "source": [
    "models = [(4,0,'n'),(4,0,'nc'),\n",
    "          (1,1,'n'),(1,1,'nc'),\n",
    "          (2,1,'n'),(2,1,'nc'),\n",
    "          (1,2,'n'),(1,2,'nc'),\n",
    "          (2,2,'n'),(2,2,'nc'),\n",
    "          (3,1,'n'),(3,1,'nc')] #I included this one only because I know, otherwise is very unlikely from visual inspection"
   ]
  },
  {
   "cell_type": "code",
   "execution_count": 274,
   "metadata": {},
   "outputs": [
    {
     "name": "stdout",
     "output_type": "stream",
     "text": [
      "4 0 n Maybe not stationary\n",
      "1 1 n Maybe not stationary\n",
      "2 1 n Maybe not stationary\n",
      "1 2 n Maybe not stationary\n",
      "2 2 n Maybe not stationary\n",
      "3 1 n Maybe not stationary\n"
     ]
    }
   ],
   "source": [
    "M = {}\n",
    "for p,q,trend in models:\n",
    "    try:\n",
    "        #fit an arma (for now without trend)\n",
    "        ft = ARMA(s,(p,q)).fit(method='mle',trend=trend)\n",
    "        M[p,q,trend] = ft\n",
    "    except ValueError:\n",
    "        print(p,q,trend,'Maybe not stationary')"
   ]
  },
  {
   "cell_type": "code",
   "execution_count": 276,
   "metadata": {},
   "outputs": [
    {
     "data": {
      "text/html": [
       "<div>\n",
       "<style scoped>\n",
       "    .dataframe tbody tr th:only-of-type {\n",
       "        vertical-align: middle;\n",
       "    }\n",
       "\n",
       "    .dataframe tbody tr th {\n",
       "        vertical-align: top;\n",
       "    }\n",
       "\n",
       "    .dataframe thead th {\n",
       "        text-align: right;\n",
       "    }\n",
       "</style>\n",
       "<table border=\"1\" class=\"dataframe\">\n",
       "  <thead>\n",
       "    <tr style=\"text-align: right;\">\n",
       "      <th></th>\n",
       "      <th>model</th>\n",
       "      <th>AIC</th>\n",
       "      <th>dAIC</th>\n",
       "    </tr>\n",
       "  </thead>\n",
       "  <tbody>\n",
       "    <tr>\n",
       "      <th>0</th>\n",
       "      <td>(4, 0, nc)</td>\n",
       "      <td>1724.743164</td>\n",
       "      <td>10.562306</td>\n",
       "    </tr>\n",
       "    <tr>\n",
       "      <th>1</th>\n",
       "      <td>(1, 1, nc)</td>\n",
       "      <td>1729.008075</td>\n",
       "      <td>14.827217</td>\n",
       "    </tr>\n",
       "    <tr>\n",
       "      <th>2</th>\n",
       "      <td>(2, 1, nc)</td>\n",
       "      <td>1721.106632</td>\n",
       "      <td>6.925774</td>\n",
       "    </tr>\n",
       "    <tr>\n",
       "      <th>3</th>\n",
       "      <td>(1, 2, nc)</td>\n",
       "      <td>1715.879929</td>\n",
       "      <td>1.699071</td>\n",
       "    </tr>\n",
       "    <tr>\n",
       "      <th>4</th>\n",
       "      <td>(2, 2, nc)</td>\n",
       "      <td>1714.180858</td>\n",
       "      <td>0.000000</td>\n",
       "    </tr>\n",
       "    <tr>\n",
       "      <th>5</th>\n",
       "      <td>(3, 1, nc)</td>\n",
       "      <td>1719.856671</td>\n",
       "      <td>5.675813</td>\n",
       "    </tr>\n",
       "  </tbody>\n",
       "</table>\n",
       "</div>"
      ],
      "text/plain": [
       "        model          AIC       dAIC\n",
       "0  (4, 0, nc)  1724.743164  10.562306\n",
       "1  (1, 1, nc)  1729.008075  14.827217\n",
       "2  (2, 1, nc)  1721.106632   6.925774\n",
       "3  (1, 2, nc)  1715.879929   1.699071\n",
       "4  (2, 2, nc)  1714.180858   0.000000\n",
       "5  (3, 1, nc)  1719.856671   5.675813"
      ]
     },
     "execution_count": 276,
     "metadata": {},
     "output_type": "execute_result"
    }
   ],
   "source": [
    "AIC = pd.DataFrame( [(m,ft.aic) for m,ft in M.items()],columns=['model','AIC'] ) \n",
    "\n",
    "#AIC = AIC.assign(pvalue=np.exp((AIC.AIC.min()-AIC.AIC)/2))\n",
    "AIC = AIC.assign(dAIC=(AIC.AIC-AIC.AIC.min()))\n",
    "\n",
    "\n",
    "AIC"
   ]
  },
  {
   "cell_type": "code",
   "execution_count": 165,
   "metadata": {},
   "outputs": [],
   "source": [
    "# Possible modeles are ARMA(2,2), ARMA(1,2), ARMA(2,1),  i.e., [5,4,3,2]. Model 2 is quite unlikely"
   ]
  },
  {
   "cell_type": "code",
   "execution_count": 277,
   "metadata": {
    "scrolled": false
   },
   "outputs": [
    {
     "name": "stdout",
     "output_type": "stream",
     "text": [
      "(3, 1, 'nc')\n"
     ]
    },
    {
     "data": {
      "text/html": [
       "<table class=\"simpletable\">\n",
       "<caption>ARMA Model Results</caption>\n",
       "<tr>\n",
       "  <th>Dep. Variable:</th>         <td>y</td>        <th>  No. Observations:  </th>    <td>600</td>  \n",
       "</tr>\n",
       "<tr>\n",
       "  <th>Model:</th>            <td>ARMA(3, 1)</td>    <th>  Log Likelihood     </th> <td>-854.928</td>\n",
       "</tr>\n",
       "<tr>\n",
       "  <th>Method:</th>               <td>mle</td>       <th>  S.D. of innovations</th>   <td>1.005</td> \n",
       "</tr>\n",
       "<tr>\n",
       "  <th>Date:</th>          <td>Sun, 02 May 2021</td> <th>  AIC                </th> <td>1719.857</td>\n",
       "</tr>\n",
       "<tr>\n",
       "  <th>Time:</th>              <td>08:40:41</td>     <th>  BIC                </th> <td>1741.841</td>\n",
       "</tr>\n",
       "<tr>\n",
       "  <th>Sample:</th>                <td>0</td>        <th>  HQIC               </th> <td>1728.415</td>\n",
       "</tr>\n",
       "<tr>\n",
       "  <th></th>                       <td> </td>        <th>                     </th>     <td> </td>   \n",
       "</tr>\n",
       "</table>\n",
       "<table class=\"simpletable\">\n",
       "<tr>\n",
       "     <td></td>        <th>coef</th>     <th>std err</th>      <th>z</th>      <th>P>|z|</th>  <th>[0.025</th>    <th>0.975]</th>  \n",
       "</tr>\n",
       "<tr>\n",
       "  <th>ar.L1.y</th> <td>    0.5192</td> <td>    0.148</td> <td>    3.518</td> <td> 0.000</td> <td>    0.230</td> <td>    0.808</td>\n",
       "</tr>\n",
       "<tr>\n",
       "  <th>ar.L2.y</th> <td>    0.0019</td> <td>    0.164</td> <td>    0.011</td> <td> 0.991</td> <td>   -0.320</td> <td>    0.323</td>\n",
       "</tr>\n",
       "<tr>\n",
       "  <th>ar.L3.y</th> <td>    0.1306</td> <td>    0.073</td> <td>    1.788</td> <td> 0.074</td> <td>   -0.013</td> <td>    0.274</td>\n",
       "</tr>\n",
       "<tr>\n",
       "  <th>ma.L1.y</th> <td>    0.5646</td> <td>    0.149</td> <td>    3.793</td> <td> 0.000</td> <td>    0.273</td> <td>    0.856</td>\n",
       "</tr>\n",
       "</table>\n",
       "<table class=\"simpletable\">\n",
       "<caption>Roots</caption>\n",
       "<tr>\n",
       "    <td></td>   <th>            Real</th>  <th>         Imaginary</th> <th>         Modulus</th>  <th>        Frequency</th>\n",
       "</tr>\n",
       "<tr>\n",
       "  <th>AR.1</th> <td>           1.3292</td> <td>          -0.0000j</td> <td>           1.3292</td> <td>          -0.0000</td>\n",
       "</tr>\n",
       "<tr>\n",
       "  <th>AR.2</th> <td>          -0.6718</td> <td>          -2.3044j</td> <td>           2.4003</td> <td>          -0.2951</td>\n",
       "</tr>\n",
       "<tr>\n",
       "  <th>AR.3</th> <td>          -0.6718</td> <td>          +2.3044j</td> <td>           2.4003</td> <td>           0.2951</td>\n",
       "</tr>\n",
       "<tr>\n",
       "  <th>MA.1</th> <td>          -1.7711</td> <td>          +0.0000j</td> <td>           1.7711</td> <td>           0.5000</td>\n",
       "</tr>\n",
       "</table>"
      ],
      "text/plain": [
       "<class 'statsmodels.iolib.summary.Summary'>\n",
       "\"\"\"\n",
       "                              ARMA Model Results                              \n",
       "==============================================================================\n",
       "Dep. Variable:                      y   No. Observations:                  600\n",
       "Model:                     ARMA(3, 1)   Log Likelihood                -854.928\n",
       "Method:                           mle   S.D. of innovations              1.005\n",
       "Date:                Sun, 02 May 2021   AIC                           1719.857\n",
       "Time:                        08:40:41   BIC                           1741.841\n",
       "Sample:                             0   HQIC                          1728.415\n",
       "                                                                              \n",
       "==============================================================================\n",
       "                 coef    std err          z      P>|z|      [0.025      0.975]\n",
       "------------------------------------------------------------------------------\n",
       "ar.L1.y        0.5192      0.148      3.518      0.000       0.230       0.808\n",
       "ar.L2.y        0.0019      0.164      0.011      0.991      -0.320       0.323\n",
       "ar.L3.y        0.1306      0.073      1.788      0.074      -0.013       0.274\n",
       "ma.L1.y        0.5646      0.149      3.793      0.000       0.273       0.856\n",
       "                                    Roots                                    \n",
       "=============================================================================\n",
       "                  Real          Imaginary           Modulus         Frequency\n",
       "-----------------------------------------------------------------------------\n",
       "AR.1            1.3292           -0.0000j            1.3292           -0.0000\n",
       "AR.2           -0.6718           -2.3044j            2.4003           -0.2951\n",
       "AR.3           -0.6718           +2.3044j            2.4003            0.2951\n",
       "MA.1           -1.7711           +0.0000j            1.7711            0.5000\n",
       "-----------------------------------------------------------------------------\n",
       "\"\"\""
      ]
     },
     "execution_count": 277,
     "metadata": {},
     "output_type": "execute_result"
    }
   ],
   "source": [
    "print(AIC.model[5])\n",
    "M[AIC.model[5]].summary()"
   ]
  },
  {
   "cell_type": "code",
   "execution_count": 278,
   "metadata": {},
   "outputs": [],
   "source": [
    "#Both 2 and 3 lags or AR are not significant, Maybe we should prefer a simpler ARMA(1,1) instead "
   ]
  },
  {
   "cell_type": "code",
   "execution_count": 279,
   "metadata": {},
   "outputs": [
    {
     "name": "stdout",
     "output_type": "stream",
     "text": [
      "(2, 2, 'nc')\n"
     ]
    },
    {
     "data": {
      "text/html": [
       "<table class=\"simpletable\">\n",
       "<caption>ARMA Model Results</caption>\n",
       "<tr>\n",
       "  <th>Dep. Variable:</th>         <td>y</td>        <th>  No. Observations:  </th>    <td>600</td>  \n",
       "</tr>\n",
       "<tr>\n",
       "  <th>Model:</th>            <td>ARMA(2, 2)</td>    <th>  Log Likelihood     </th> <td>-852.090</td>\n",
       "</tr>\n",
       "<tr>\n",
       "  <th>Method:</th>               <td>mle</td>       <th>  S.D. of innovations</th>   <td>1.000</td> \n",
       "</tr>\n",
       "<tr>\n",
       "  <th>Date:</th>          <td>Sun, 02 May 2021</td> <th>  AIC                </th> <td>1714.181</td>\n",
       "</tr>\n",
       "<tr>\n",
       "  <th>Time:</th>              <td>08:40:44</td>     <th>  BIC                </th> <td>1736.166</td>\n",
       "</tr>\n",
       "<tr>\n",
       "  <th>Sample:</th>                <td>0</td>        <th>  HQIC               </th> <td>1722.739</td>\n",
       "</tr>\n",
       "<tr>\n",
       "  <th></th>                       <td> </td>        <th>                     </th>     <td> </td>   \n",
       "</tr>\n",
       "</table>\n",
       "<table class=\"simpletable\">\n",
       "<tr>\n",
       "     <td></td>        <th>coef</th>     <th>std err</th>      <th>z</th>      <th>P>|z|</th>  <th>[0.025</th>    <th>0.975]</th>  \n",
       "</tr>\n",
       "<tr>\n",
       "  <th>ar.L1.y</th> <td>    1.1931</td> <td>    0.139</td> <td>    8.613</td> <td> 0.000</td> <td>    0.922</td> <td>    1.465</td>\n",
       "</tr>\n",
       "<tr>\n",
       "  <th>ar.L2.y</th> <td>   -0.2579</td> <td>    0.104</td> <td>   -2.470</td> <td> 0.014</td> <td>   -0.462</td> <td>   -0.053</td>\n",
       "</tr>\n",
       "<tr>\n",
       "  <th>ma.L1.y</th> <td>   -0.1167</td> <td>    0.131</td> <td>   -0.889</td> <td> 0.374</td> <td>   -0.374</td> <td>    0.141</td>\n",
       "</tr>\n",
       "<tr>\n",
       "  <th>ma.L2.y</th> <td>   -0.4979</td> <td>    0.064</td> <td>   -7.817</td> <td> 0.000</td> <td>   -0.623</td> <td>   -0.373</td>\n",
       "</tr>\n",
       "</table>\n",
       "<table class=\"simpletable\">\n",
       "<caption>Roots</caption>\n",
       "<tr>\n",
       "    <td></td>   <th>            Real</th>  <th>         Imaginary</th> <th>         Modulus</th>  <th>        Frequency</th>\n",
       "</tr>\n",
       "<tr>\n",
       "  <th>AR.1</th> <td>           1.0994</td> <td>          +0.0000j</td> <td>           1.0994</td> <td>           0.0000</td>\n",
       "</tr>\n",
       "<tr>\n",
       "  <th>AR.2</th> <td>           3.5275</td> <td>          +0.0000j</td> <td>           3.5275</td> <td>           0.0000</td>\n",
       "</tr>\n",
       "<tr>\n",
       "  <th>MA.1</th> <td>           1.3049</td> <td>          +0.0000j</td> <td>           1.3049</td> <td>           0.0000</td>\n",
       "</tr>\n",
       "<tr>\n",
       "  <th>MA.2</th> <td>          -1.5393</td> <td>          +0.0000j</td> <td>           1.5393</td> <td>           0.5000</td>\n",
       "</tr>\n",
       "</table>"
      ],
      "text/plain": [
       "<class 'statsmodels.iolib.summary.Summary'>\n",
       "\"\"\"\n",
       "                              ARMA Model Results                              \n",
       "==============================================================================\n",
       "Dep. Variable:                      y   No. Observations:                  600\n",
       "Model:                     ARMA(2, 2)   Log Likelihood                -852.090\n",
       "Method:                           mle   S.D. of innovations              1.000\n",
       "Date:                Sun, 02 May 2021   AIC                           1714.181\n",
       "Time:                        08:40:44   BIC                           1736.166\n",
       "Sample:                             0   HQIC                          1722.739\n",
       "                                                                              \n",
       "==============================================================================\n",
       "                 coef    std err          z      P>|z|      [0.025      0.975]\n",
       "------------------------------------------------------------------------------\n",
       "ar.L1.y        1.1931      0.139      8.613      0.000       0.922       1.465\n",
       "ar.L2.y       -0.2579      0.104     -2.470      0.014      -0.462      -0.053\n",
       "ma.L1.y       -0.1167      0.131     -0.889      0.374      -0.374       0.141\n",
       "ma.L2.y       -0.4979      0.064     -7.817      0.000      -0.623      -0.373\n",
       "                                    Roots                                    \n",
       "=============================================================================\n",
       "                  Real          Imaginary           Modulus         Frequency\n",
       "-----------------------------------------------------------------------------\n",
       "AR.1            1.0994           +0.0000j            1.0994            0.0000\n",
       "AR.2            3.5275           +0.0000j            3.5275            0.0000\n",
       "MA.1            1.3049           +0.0000j            1.3049            0.0000\n",
       "MA.2           -1.5393           +0.0000j            1.5393            0.5000\n",
       "-----------------------------------------------------------------------------\n",
       "\"\"\""
      ]
     },
     "execution_count": 279,
     "metadata": {},
     "output_type": "execute_result"
    }
   ],
   "source": [
    "print(AIC.model[4])\n",
    "M[AIC.model[4]].summary()"
   ]
  },
  {
   "cell_type": "code",
   "execution_count": 280,
   "metadata": {},
   "outputs": [],
   "source": [
    "# The first lag of MA is not significant, but it's not enoght to reject the model"
   ]
  },
  {
   "cell_type": "code",
   "execution_count": 281,
   "metadata": {},
   "outputs": [
    {
     "name": "stdout",
     "output_type": "stream",
     "text": [
      "(1, 2, 'nc')\n"
     ]
    },
    {
     "data": {
      "text/html": [
       "<table class=\"simpletable\">\n",
       "<caption>ARMA Model Results</caption>\n",
       "<tr>\n",
       "  <th>Dep. Variable:</th>         <td>y</td>        <th>  No. Observations:  </th>    <td>600</td>  \n",
       "</tr>\n",
       "<tr>\n",
       "  <th>Model:</th>            <td>ARMA(1, 2)</td>    <th>  Log Likelihood     </th> <td>-853.940</td>\n",
       "</tr>\n",
       "<tr>\n",
       "  <th>Method:</th>               <td>mle</td>       <th>  S.D. of innovations</th>   <td>1.003</td> \n",
       "</tr>\n",
       "<tr>\n",
       "  <th>Date:</th>          <td>Sun, 02 May 2021</td> <th>  AIC                </th> <td>1715.880</td>\n",
       "</tr>\n",
       "<tr>\n",
       "  <th>Time:</th>              <td>08:40:45</td>     <th>  BIC                </th> <td>1733.468</td>\n",
       "</tr>\n",
       "<tr>\n",
       "  <th>Sample:</th>                <td>0</td>        <th>  HQIC               </th> <td>1722.726</td>\n",
       "</tr>\n",
       "<tr>\n",
       "  <th></th>                       <td> </td>        <th>                     </th>     <td> </td>   \n",
       "</tr>\n",
       "</table>\n",
       "<table class=\"simpletable\">\n",
       "<tr>\n",
       "     <td></td>        <th>coef</th>     <th>std err</th>      <th>z</th>      <th>P>|z|</th>  <th>[0.025</th>    <th>0.975]</th>  \n",
       "</tr>\n",
       "<tr>\n",
       "  <th>ar.L1.y</th> <td>    0.8071</td> <td>    0.053</td> <td>   15.348</td> <td> 0.000</td> <td>    0.704</td> <td>    0.910</td>\n",
       "</tr>\n",
       "<tr>\n",
       "  <th>ma.L1.y</th> <td>    0.2574</td> <td>    0.078</td> <td>    3.298</td> <td> 0.001</td> <td>    0.104</td> <td>    0.410</td>\n",
       "</tr>\n",
       "<tr>\n",
       "  <th>ma.L2.y</th> <td>   -0.3215</td> <td>    0.076</td> <td>   -4.207</td> <td> 0.000</td> <td>   -0.471</td> <td>   -0.172</td>\n",
       "</tr>\n",
       "</table>\n",
       "<table class=\"simpletable\">\n",
       "<caption>Roots</caption>\n",
       "<tr>\n",
       "    <td></td>   <th>            Real</th>  <th>         Imaginary</th> <th>         Modulus</th>  <th>        Frequency</th>\n",
       "</tr>\n",
       "<tr>\n",
       "  <th>AR.1</th> <td>           1.2390</td> <td>          +0.0000j</td> <td>           1.2390</td> <td>           0.0000</td>\n",
       "</tr>\n",
       "<tr>\n",
       "  <th>MA.1</th> <td>          -1.4081</td> <td>          +0.0000j</td> <td>           1.4081</td> <td>           0.5000</td>\n",
       "</tr>\n",
       "<tr>\n",
       "  <th>MA.2</th> <td>           2.2088</td> <td>          +0.0000j</td> <td>           2.2088</td> <td>           0.0000</td>\n",
       "</tr>\n",
       "</table>"
      ],
      "text/plain": [
       "<class 'statsmodels.iolib.summary.Summary'>\n",
       "\"\"\"\n",
       "                              ARMA Model Results                              \n",
       "==============================================================================\n",
       "Dep. Variable:                      y   No. Observations:                  600\n",
       "Model:                     ARMA(1, 2)   Log Likelihood                -853.940\n",
       "Method:                           mle   S.D. of innovations              1.003\n",
       "Date:                Sun, 02 May 2021   AIC                           1715.880\n",
       "Time:                        08:40:45   BIC                           1733.468\n",
       "Sample:                             0   HQIC                          1722.726\n",
       "                                                                              \n",
       "==============================================================================\n",
       "                 coef    std err          z      P>|z|      [0.025      0.975]\n",
       "------------------------------------------------------------------------------\n",
       "ar.L1.y        0.8071      0.053     15.348      0.000       0.704       0.910\n",
       "ma.L1.y        0.2574      0.078      3.298      0.001       0.104       0.410\n",
       "ma.L2.y       -0.3215      0.076     -4.207      0.000      -0.471      -0.172\n",
       "                                    Roots                                    \n",
       "=============================================================================\n",
       "                  Real          Imaginary           Modulus         Frequency\n",
       "-----------------------------------------------------------------------------\n",
       "AR.1            1.2390           +0.0000j            1.2390            0.0000\n",
       "MA.1           -1.4081           +0.0000j            1.4081            0.5000\n",
       "MA.2            2.2088           +0.0000j            2.2088            0.0000\n",
       "-----------------------------------------------------------------------------\n",
       "\"\"\""
      ]
     },
     "execution_count": 281,
     "metadata": {},
     "output_type": "execute_result"
    }
   ],
   "source": [
    "print( AIC.model[3] )\n",
    "M[AIC.model[3]].summary()"
   ]
  },
  {
   "cell_type": "code",
   "execution_count": 282,
   "metadata": {},
   "outputs": [
    {
     "name": "stdout",
     "output_type": "stream",
     "text": [
      "(2, 1, 'nc')\n"
     ]
    },
    {
     "data": {
      "text/html": [
       "<table class=\"simpletable\">\n",
       "<caption>ARMA Model Results</caption>\n",
       "<tr>\n",
       "  <th>Dep. Variable:</th>         <td>y</td>        <th>  No. Observations:  </th>    <td>600</td>  \n",
       "</tr>\n",
       "<tr>\n",
       "  <th>Model:</th>            <td>ARMA(2, 1)</td>    <th>  Log Likelihood     </th> <td>-856.553</td>\n",
       "</tr>\n",
       "<tr>\n",
       "  <th>Method:</th>               <td>mle</td>       <th>  S.D. of innovations</th>   <td>1.008</td> \n",
       "</tr>\n",
       "<tr>\n",
       "  <th>Date:</th>          <td>Sun, 02 May 2021</td> <th>  AIC                </th> <td>1721.107</td>\n",
       "</tr>\n",
       "<tr>\n",
       "  <th>Time:</th>              <td>08:40:45</td>     <th>  BIC                </th> <td>1738.694</td>\n",
       "</tr>\n",
       "<tr>\n",
       "  <th>Sample:</th>                <td>0</td>        <th>  HQIC               </th> <td>1727.953</td>\n",
       "</tr>\n",
       "<tr>\n",
       "  <th></th>                       <td> </td>        <th>                     </th>     <td> </td>   \n",
       "</tr>\n",
       "</table>\n",
       "<table class=\"simpletable\">\n",
       "<tr>\n",
       "     <td></td>        <th>coef</th>     <th>std err</th>      <th>z</th>      <th>P>|z|</th>  <th>[0.025</th>    <th>0.975]</th>  \n",
       "</tr>\n",
       "<tr>\n",
       "  <th>ar.L1.y</th> <td>    0.3524</td> <td>    0.073</td> <td>    4.800</td> <td> 0.000</td> <td>    0.209</td> <td>    0.496</td>\n",
       "</tr>\n",
       "<tr>\n",
       "  <th>ar.L2.y</th> <td>    0.2222</td> <td>    0.068</td> <td>    3.263</td> <td> 0.001</td> <td>    0.089</td> <td>    0.356</td>\n",
       "</tr>\n",
       "<tr>\n",
       "  <th>ma.L1.y</th> <td>    0.7442</td> <td>    0.055</td> <td>   13.441</td> <td> 0.000</td> <td>    0.636</td> <td>    0.853</td>\n",
       "</tr>\n",
       "</table>\n",
       "<table class=\"simpletable\">\n",
       "<caption>Roots</caption>\n",
       "<tr>\n",
       "    <td></td>   <th>            Real</th>  <th>         Imaginary</th> <th>         Modulus</th>  <th>        Frequency</th>\n",
       "</tr>\n",
       "<tr>\n",
       "  <th>AR.1</th> <td>           1.4718</td> <td>          +0.0000j</td> <td>           1.4718</td> <td>           0.0000</td>\n",
       "</tr>\n",
       "<tr>\n",
       "  <th>AR.2</th> <td>          -3.0576</td> <td>          +0.0000j</td> <td>           3.0576</td> <td>           0.5000</td>\n",
       "</tr>\n",
       "<tr>\n",
       "  <th>MA.1</th> <td>          -1.3437</td> <td>          +0.0000j</td> <td>           1.3437</td> <td>           0.5000</td>\n",
       "</tr>\n",
       "</table>"
      ],
      "text/plain": [
       "<class 'statsmodels.iolib.summary.Summary'>\n",
       "\"\"\"\n",
       "                              ARMA Model Results                              \n",
       "==============================================================================\n",
       "Dep. Variable:                      y   No. Observations:                  600\n",
       "Model:                     ARMA(2, 1)   Log Likelihood                -856.553\n",
       "Method:                           mle   S.D. of innovations              1.008\n",
       "Date:                Sun, 02 May 2021   AIC                           1721.107\n",
       "Time:                        08:40:45   BIC                           1738.694\n",
       "Sample:                             0   HQIC                          1727.953\n",
       "                                                                              \n",
       "==============================================================================\n",
       "                 coef    std err          z      P>|z|      [0.025      0.975]\n",
       "------------------------------------------------------------------------------\n",
       "ar.L1.y        0.3524      0.073      4.800      0.000       0.209       0.496\n",
       "ar.L2.y        0.2222      0.068      3.263      0.001       0.089       0.356\n",
       "ma.L1.y        0.7442      0.055     13.441      0.000       0.636       0.853\n",
       "                                    Roots                                    \n",
       "=============================================================================\n",
       "                  Real          Imaginary           Modulus         Frequency\n",
       "-----------------------------------------------------------------------------\n",
       "AR.1            1.4718           +0.0000j            1.4718            0.0000\n",
       "AR.2           -3.0576           +0.0000j            3.0576            0.5000\n",
       "MA.1           -1.3437           +0.0000j            1.3437            0.5000\n",
       "-----------------------------------------------------------------------------\n",
       "\"\"\""
      ]
     },
     "execution_count": 282,
     "metadata": {},
     "output_type": "execute_result"
    }
   ],
   "source": [
    "print( AIC.model[2] )\n",
    "M[AIC.model[2]].summary()"
   ]
  },
  {
   "cell_type": "code",
   "execution_count": 283,
   "metadata": {},
   "outputs": [],
   "source": [
    "# Let us inspect for all of them the residue"
   ]
  },
  {
   "cell_type": "code",
   "execution_count": 284,
   "metadata": {},
   "outputs": [],
   "source": [
    "rs = {params: M[params].resid for params in AIC.model[[2,3,4,5]]}"
   ]
  },
  {
   "cell_type": "code",
   "execution_count": 285,
   "metadata": {},
   "outputs": [
    {
     "data": {
      "image/png": "[encoded data removed]",
      "text/plain": [
       "<Figure size 432x288 with 1 Axes>"
      ]
     },
     "metadata": {
      "needs_background": "light"
     },
     "output_type": "display_data"
    },
    {
     "data": {
      "image/png": "[encoded data removed]",
      "text/plain": [
       "<Figure size 432x288 with 1 Axes>"
      ]
     },
     "metadata": {
      "needs_background": "light"
     },
     "output_type": "display_data"
    },
    {
     "data": {
      "image/png": "[encoded data removed]",
      "text/plain": [
       "<Figure size 432x288 with 1 Axes>"
      ]
     },
     "metadata": {
      "needs_background": "light"
     },
     "output_type": "display_data"
    },
    {
     "data": {
      "image/png": "[encoded data removed]",
      "text/plain": [
       "<Figure size 432x288 with 1 Axes>"
      ]
     },
     "metadata": {
      "needs_background": "light"
     },
     "output_type": "display_data"
    }
   ],
   "source": [
    "for params,r in rs.items():\n",
    "    sm.graphics.tsa.plot_acf(r, lags=20)\n",
    "    plt.xlabel(r'$lags$',fontsize=16)\n",
    "    plt.ylabel('ACF [residue]',fontsize=16)\n",
    "    plt.tick_params(labelsize=14)\n",
    "    plt.title(params,fontsize=16)\n",
    "    plt.show()"
   ]
  },
  {
   "cell_type": "code",
   "execution_count": 286,
   "metadata": {},
   "outputs": [],
   "source": [
    "# They seems all good. Except for ARMA(3,1). Let us try with ljungbox test"
   ]
  },
  {
   "cell_type": "code",
   "execution_count": 287,
   "metadata": {},
   "outputs": [],
   "source": [
    "Qtest = []  \n",
    "for (p,q,trend),r in rs.items():\n",
    "    pvalue = acorr_ljungbox(r,lags=[p+q+1],model_df=p+q,return_df=True)['lb_pvalue'][p+q+1]\n",
    "    Qtest.append(( (p,q,trend), pvalue))\n",
    "Qtest = pd.DataFrame( Qtest, columns=['model','residue pvalues'] )"
   ]
  },
  {
   "cell_type": "code",
   "execution_count": 288,
   "metadata": {},
   "outputs": [
    {
     "data": {
      "text/html": [
       "<div>\n",
       "<style scoped>\n",
       "    .dataframe tbody tr th:only-of-type {\n",
       "        vertical-align: middle;\n",
       "    }\n",
       "\n",
       "    .dataframe tbody tr th {\n",
       "        vertical-align: top;\n",
       "    }\n",
       "\n",
       "    .dataframe thead th {\n",
       "        text-align: right;\n",
       "    }\n",
       "</style>\n",
       "<table border=\"1\" class=\"dataframe\">\n",
       "  <thead>\n",
       "    <tr style=\"text-align: right;\">\n",
       "      <th></th>\n",
       "      <th>model</th>\n",
       "      <th>residue pvalues</th>\n",
       "    </tr>\n",
       "  </thead>\n",
       "  <tbody>\n",
       "    <tr>\n",
       "      <th>0</th>\n",
       "      <td>(2, 1, nc)</td>\n",
       "      <td>0.027232</td>\n",
       "    </tr>\n",
       "    <tr>\n",
       "      <th>1</th>\n",
       "      <td>(1, 2, nc)</td>\n",
       "      <td>0.176102</td>\n",
       "    </tr>\n",
       "    <tr>\n",
       "      <th>2</th>\n",
       "      <td>(2, 2, nc)</td>\n",
       "      <td>0.487658</td>\n",
       "    </tr>\n",
       "    <tr>\n",
       "      <th>3</th>\n",
       "      <td>(3, 1, nc)</td>\n",
       "      <td>0.255754</td>\n",
       "    </tr>\n",
       "  </tbody>\n",
       "</table>\n",
       "</div>"
      ],
      "text/plain": [
       "        model  residue pvalues\n",
       "0  (2, 1, nc)         0.027232\n",
       "1  (1, 2, nc)         0.176102\n",
       "2  (2, 2, nc)         0.487658\n",
       "3  (3, 1, nc)         0.255754"
      ]
     },
     "execution_count": 288,
     "metadata": {},
     "output_type": "execute_result"
    }
   ],
   "source": [
    "Qtest"
   ]
  },
  {
   "cell_type": "code",
   "execution_count": 289,
   "metadata": {},
   "outputs": [],
   "source": [
    "#Also for the residue ARMA(2,1) seems not very likely\n",
    "\n",
    "#ARMA(2,2), ARMA(1,2) and ARMA(3,1) are both likely.\n",
    "#  ljungbox test is better then visual inspection.\n",
    "\n",
    "#ARMA(1,2) is simpler and must be preferred"
   ]
  },
  {
   "cell_type": "code",
   "execution_count": 290,
   "metadata": {},
   "outputs": [],
   "source": [
    "#Real Model was ARMA(3,1) but it was rejected. Why?\n",
    "\n",
    "#Answer: Small sample size, and higher order parameter too close to zero. "
   ]
  },
  {
   "cell_type": "markdown",
   "metadata": {},
   "source": [
    "# Increase higher lag strength"
   ]
  },
  {
   "cell_type": "code",
   "execution_count": 291,
   "metadata": {},
   "outputs": [],
   "source": [
    "import numpy as np\n",
    "import statsmodels.api as sm\n",
    "\n",
    "#Just to have the same time-series for all the class\n",
    "np.random.seed(0)\n",
    "\n",
    "arparams = np.array([0.7,-0.4,0.4]) #this time 0.2 -> 0.4\n",
    "maparams = np.array([0.4])\n",
    "ar = np.r_[1, -arparams] # add zero-lag and negate\n",
    "ma = np.r_[1, maparams] # add zero-lag\n",
    "arma_process = sm.tsa.ArmaProcess(ar, ma)\n",
    "\n",
    "dump=100\n",
    "T=600  # Same legnth\n",
    "s = sm.tsa.arma_generate_sample(ar, ma,T,burnin=dump )"
   ]
  },
  {
   "cell_type": "code",
   "execution_count": 292,
   "metadata": {},
   "outputs": [
    {
     "data": {
      "image/png": "[encoded data removed]",
      "text/plain": [
       "<Figure size 432x288 with 1 Axes>"
      ]
     },
     "metadata": {
      "needs_background": "light"
     },
     "output_type": "display_data"
    }
   ],
   "source": [
    "sm.graphics.tsa.plot_acf(s, lags=20)\n",
    "plt.xlabel(r'$lags$',fontsize=16)\n",
    "plt.ylabel('ACF',fontsize=16)\n",
    "plt.tick_params(labelsize=14)\n",
    "plt.show()"
   ]
  },
  {
   "cell_type": "code",
   "execution_count": 293,
   "metadata": {},
   "outputs": [
    {
     "data": {
      "image/png": "[encoded data removed]",
      "text/plain": [
       "<Figure size 432x288 with 1 Axes>"
      ]
     },
     "metadata": {
      "needs_background": "light"
     },
     "output_type": "display_data"
    }
   ],
   "source": [
    "sm.graphics.tsa.plot_pacf(s, lags=20)\n",
    "plt.xlabel(r'$lags$',fontsize=16)\n",
    "plt.ylabel('PACF',fontsize=16)\n",
    "plt.tick_params(labelsize=14)\n",
    "plt.show()"
   ]
  },
  {
   "cell_type": "code",
   "execution_count": null,
   "metadata": {},
   "outputs": [],
   "source": []
  },
  {
   "cell_type": "code",
   "execution_count": 294,
   "metadata": {},
   "outputs": [],
   "source": [
    "models = [(4,0,'n'),(4,0,'nc'),\n",
    "          (1,1,'n'),(1,1,'nc'),\n",
    "          (2,1,'n'),(2,1,'nc'),\n",
    "          (1,2,'n'),(1,2,'nc'),\n",
    "          (2,2,'n'),(2,2,'nc'),\n",
    "          (3,1,'n'),(3,1,'nc')] #We can include more ARMA indeed"
   ]
  },
  {
   "cell_type": "code",
   "execution_count": 295,
   "metadata": {},
   "outputs": [
    {
     "name": "stdout",
     "output_type": "stream",
     "text": [
      "4 0 n Maybe not stationary\n",
      "1 1 n Maybe not stationary\n",
      "2 1 n Maybe not stationary\n",
      "1 2 n Maybe not stationary\n",
      "2 2 n Maybe not stationary\n",
      "3 1 n Maybe not stationary\n"
     ]
    }
   ],
   "source": [
    "M = {}\n",
    "for p,q,trend in models:\n",
    "    try:\n",
    "        #fit an arma (for now without trend)\n",
    "        ft = ARMA(s,(p,q)).fit(method='mle',trend=trend)\n",
    "        M[p,q,trend] = ft\n",
    "    except ValueError:\n",
    "        print(p,q,trend,'Maybe not stationary')"
   ]
  },
  {
   "cell_type": "code",
   "execution_count": 296,
   "metadata": {},
   "outputs": [
    {
     "data": {
      "text/html": [
       "<div>\n",
       "<style scoped>\n",
       "    .dataframe tbody tr th:only-of-type {\n",
       "        vertical-align: middle;\n",
       "    }\n",
       "\n",
       "    .dataframe tbody tr th {\n",
       "        vertical-align: top;\n",
       "    }\n",
       "\n",
       "    .dataframe thead th {\n",
       "        text-align: right;\n",
       "    }\n",
       "</style>\n",
       "<table border=\"1\" class=\"dataframe\">\n",
       "  <thead>\n",
       "    <tr style=\"text-align: right;\">\n",
       "      <th></th>\n",
       "      <th>model</th>\n",
       "      <th>AIC</th>\n",
       "      <th>dAIC</th>\n",
       "    </tr>\n",
       "  </thead>\n",
       "  <tbody>\n",
       "    <tr>\n",
       "      <th>0</th>\n",
       "      <td>(4, 0, nc)</td>\n",
       "      <td>1725.626810</td>\n",
       "      <td>5.250470</td>\n",
       "    </tr>\n",
       "    <tr>\n",
       "      <th>1</th>\n",
       "      <td>(1, 1, nc)</td>\n",
       "      <td>1768.252406</td>\n",
       "      <td>47.876066</td>\n",
       "    </tr>\n",
       "    <tr>\n",
       "      <th>2</th>\n",
       "      <td>(2, 1, nc)</td>\n",
       "      <td>1766.621004</td>\n",
       "      <td>46.244664</td>\n",
       "    </tr>\n",
       "    <tr>\n",
       "      <th>3</th>\n",
       "      <td>(1, 2, nc)</td>\n",
       "      <td>1736.664722</td>\n",
       "      <td>16.288382</td>\n",
       "    </tr>\n",
       "    <tr>\n",
       "      <th>4</th>\n",
       "      <td>(2, 2, nc)</td>\n",
       "      <td>1735.191376</td>\n",
       "      <td>14.815036</td>\n",
       "    </tr>\n",
       "    <tr>\n",
       "      <th>5</th>\n",
       "      <td>(3, 1, nc)</td>\n",
       "      <td>1720.376340</td>\n",
       "      <td>0.000000</td>\n",
       "    </tr>\n",
       "  </tbody>\n",
       "</table>\n",
       "</div>"
      ],
      "text/plain": [
       "        model          AIC       dAIC\n",
       "0  (4, 0, nc)  1725.626810   5.250470\n",
       "1  (1, 1, nc)  1768.252406  47.876066\n",
       "2  (2, 1, nc)  1766.621004  46.244664\n",
       "3  (1, 2, nc)  1736.664722  16.288382\n",
       "4  (2, 2, nc)  1735.191376  14.815036\n",
       "5  (3, 1, nc)  1720.376340   0.000000"
      ]
     },
     "execution_count": 296,
     "metadata": {},
     "output_type": "execute_result"
    }
   ],
   "source": [
    "AIC = pd.DataFrame( [(m,ft.aic) for m,ft in M.items()],columns=['model','AIC'] ) \n",
    "\n",
    "#AIC = AIC.assign(pvalue=np.exp((AIC.AIC.min()-AIC.AIC)/2))\n",
    "AIC = AIC.assign(dAIC=(AIC.AIC-AIC.AIC.min()))\n",
    "\n",
    "AIC"
   ]
  },
  {
   "cell_type": "code",
   "execution_count": 298,
   "metadata": {},
   "outputs": [],
   "source": [
    "# This time (3,1) and (4,0,) is significantly better then the others"
   ]
  },
  {
   "cell_type": "code",
   "execution_count": 299,
   "metadata": {},
   "outputs": [
    {
     "name": "stdout",
     "output_type": "stream",
     "text": [
      "(3, 1, 'nc')\n"
     ]
    },
    {
     "data": {
      "text/html": [
       "<table class=\"simpletable\">\n",
       "<caption>ARMA Model Results</caption>\n",
       "<tr>\n",
       "  <th>Dep. Variable:</th>         <td>y</td>        <th>  No. Observations:  </th>    <td>600</td>  \n",
       "</tr>\n",
       "<tr>\n",
       "  <th>Model:</th>            <td>ARMA(3, 1)</td>    <th>  Log Likelihood     </th> <td>-855.188</td>\n",
       "</tr>\n",
       "<tr>\n",
       "  <th>Method:</th>               <td>mle</td>       <th>  S.D. of innovations</th>   <td>1.005</td> \n",
       "</tr>\n",
       "<tr>\n",
       "  <th>Date:</th>          <td>Sun, 02 May 2021</td> <th>  AIC                </th> <td>1720.376</td>\n",
       "</tr>\n",
       "<tr>\n",
       "  <th>Time:</th>              <td>08:41:51</td>     <th>  BIC                </th> <td>1742.361</td>\n",
       "</tr>\n",
       "<tr>\n",
       "  <th>Sample:</th>                <td>0</td>        <th>  HQIC               </th> <td>1728.935</td>\n",
       "</tr>\n",
       "<tr>\n",
       "  <th></th>                       <td> </td>        <th>                     </th>     <td> </td>   \n",
       "</tr>\n",
       "</table>\n",
       "<table class=\"simpletable\">\n",
       "<tr>\n",
       "     <td></td>        <th>coef</th>     <th>std err</th>      <th>z</th>      <th>P>|z|</th>  <th>[0.025</th>    <th>0.975]</th>  \n",
       "</tr>\n",
       "<tr>\n",
       "  <th>ar.L1.y</th> <td>    0.6601</td> <td>    0.075</td> <td>    8.755</td> <td> 0.000</td> <td>    0.512</td> <td>    0.808</td>\n",
       "</tr>\n",
       "<tr>\n",
       "  <th>ar.L2.y</th> <td>   -0.3517</td> <td>    0.080</td> <td>   -4.407</td> <td> 0.000</td> <td>   -0.508</td> <td>   -0.195</td>\n",
       "</tr>\n",
       "<tr>\n",
       "  <th>ar.L3.y</th> <td>    0.3897</td> <td>    0.047</td> <td>    8.298</td> <td> 0.000</td> <td>    0.298</td> <td>    0.482</td>\n",
       "</tr>\n",
       "<tr>\n",
       "  <th>ma.L1.y</th> <td>    0.4206</td> <td>    0.082</td> <td>    5.120</td> <td> 0.000</td> <td>    0.260</td> <td>    0.582</td>\n",
       "</tr>\n",
       "</table>\n",
       "<table class=\"simpletable\">\n",
       "<caption>Roots</caption>\n",
       "<tr>\n",
       "    <td></td>   <th>            Real</th>  <th>         Imaginary</th> <th>         Modulus</th>  <th>        Frequency</th>\n",
       "</tr>\n",
       "<tr>\n",
       "  <th>AR.1</th> <td>           1.2268</td> <td>          -0.0000j</td> <td>           1.2268</td> <td>          -0.0000</td>\n",
       "</tr>\n",
       "<tr>\n",
       "  <th>AR.2</th> <td>          -0.1622</td> <td>          -1.4371j</td> <td>           1.4463</td> <td>          -0.2679</td>\n",
       "</tr>\n",
       "<tr>\n",
       "  <th>AR.3</th> <td>          -0.1622</td> <td>          +1.4371j</td> <td>           1.4463</td> <td>           0.2679</td>\n",
       "</tr>\n",
       "<tr>\n",
       "  <th>MA.1</th> <td>          -2.3777</td> <td>          +0.0000j</td> <td>           2.3777</td> <td>           0.5000</td>\n",
       "</tr>\n",
       "</table>"
      ],
      "text/plain": [
       "<class 'statsmodels.iolib.summary.Summary'>\n",
       "\"\"\"\n",
       "                              ARMA Model Results                              \n",
       "==============================================================================\n",
       "Dep. Variable:                      y   No. Observations:                  600\n",
       "Model:                     ARMA(3, 1)   Log Likelihood                -855.188\n",
       "Method:                           mle   S.D. of innovations              1.005\n",
       "Date:                Sun, 02 May 2021   AIC                           1720.376\n",
       "Time:                        08:41:51   BIC                           1742.361\n",
       "Sample:                             0   HQIC                          1728.935\n",
       "                                                                              \n",
       "==============================================================================\n",
       "                 coef    std err          z      P>|z|      [0.025      0.975]\n",
       "------------------------------------------------------------------------------\n",
       "ar.L1.y        0.6601      0.075      8.755      0.000       0.512       0.808\n",
       "ar.L2.y       -0.3517      0.080     -4.407      0.000      -0.508      -0.195\n",
       "ar.L3.y        0.3897      0.047      8.298      0.000       0.298       0.482\n",
       "ma.L1.y        0.4206      0.082      5.120      0.000       0.260       0.582\n",
       "                                    Roots                                    \n",
       "=============================================================================\n",
       "                  Real          Imaginary           Modulus         Frequency\n",
       "-----------------------------------------------------------------------------\n",
       "AR.1            1.2268           -0.0000j            1.2268           -0.0000\n",
       "AR.2           -0.1622           -1.4371j            1.4463           -0.2679\n",
       "AR.3           -0.1622           +1.4371j            1.4463            0.2679\n",
       "MA.1           -2.3777           +0.0000j            2.3777            0.5000\n",
       "-----------------------------------------------------------------------------\n",
       "\"\"\""
      ]
     },
     "execution_count": 299,
     "metadata": {},
     "output_type": "execute_result"
    }
   ],
   "source": [
    "params =  AIC.model[5] \n",
    "print(params)\n",
    "M[params].summary()"
   ]
  },
  {
   "cell_type": "code",
   "execution_count": 300,
   "metadata": {},
   "outputs": [
    {
     "name": "stdout",
     "output_type": "stream",
     "text": [
      "(4, 0, 'nc')\n"
     ]
    },
    {
     "data": {
      "text/html": [
       "<table class=\"simpletable\">\n",
       "<caption>ARMA Model Results</caption>\n",
       "<tr>\n",
       "  <th>Dep. Variable:</th>         <td>y</td>        <th>  No. Observations:  </th>    <td>600</td>  \n",
       "</tr>\n",
       "<tr>\n",
       "  <th>Model:</th>            <td>ARMA(4, 0)</td>    <th>  Log Likelihood     </th> <td>-857.813</td>\n",
       "</tr>\n",
       "<tr>\n",
       "  <th>Method:</th>               <td>mle</td>       <th>  S.D. of innovations</th>   <td>1.009</td> \n",
       "</tr>\n",
       "<tr>\n",
       "  <th>Date:</th>          <td>Sun, 02 May 2021</td> <th>  AIC                </th> <td>1725.627</td>\n",
       "</tr>\n",
       "<tr>\n",
       "  <th>Time:</th>              <td>08:42:00</td>     <th>  BIC                </th> <td>1747.611</td>\n",
       "</tr>\n",
       "<tr>\n",
       "  <th>Sample:</th>                <td>0</td>        <th>  HQIC               </th> <td>1734.185</td>\n",
       "</tr>\n",
       "<tr>\n",
       "  <th></th>                       <td> </td>        <th>                     </th>     <td> </td>   \n",
       "</tr>\n",
       "</table>\n",
       "<table class=\"simpletable\">\n",
       "<tr>\n",
       "     <td></td>        <th>coef</th>     <th>std err</th>      <th>z</th>      <th>P>|z|</th>  <th>[0.025</th>    <th>0.975]</th>  \n",
       "</tr>\n",
       "<tr>\n",
       "  <th>ar.L1.y</th> <td>    1.0557</td> <td>    0.040</td> <td>   26.196</td> <td> 0.000</td> <td>    0.977</td> <td>    1.135</td>\n",
       "</tr>\n",
       "<tr>\n",
       "  <th>ar.L2.y</th> <td>   -0.7379</td> <td>    0.053</td> <td>  -13.834</td> <td> 0.000</td> <td>   -0.842</td> <td>   -0.633</td>\n",
       "</tr>\n",
       "<tr>\n",
       "  <th>ar.L3.y</th> <td>    0.6278</td> <td>    0.054</td> <td>   11.729</td> <td> 0.000</td> <td>    0.523</td> <td>    0.733</td>\n",
       "</tr>\n",
       "<tr>\n",
       "  <th>ar.L4.y</th> <td>   -0.1644</td> <td>    0.041</td> <td>   -4.057</td> <td> 0.000</td> <td>   -0.244</td> <td>   -0.085</td>\n",
       "</tr>\n",
       "</table>\n",
       "<table class=\"simpletable\">\n",
       "<caption>Roots</caption>\n",
       "<tr>\n",
       "    <td></td>   <th>            Real</th>  <th>         Imaginary</th> <th>         Modulus</th>  <th>        Frequency</th>\n",
       "</tr>\n",
       "<tr>\n",
       "  <th>AR.1</th> <td>          -0.0907</td> <td>          -1.3243j</td> <td>           1.3274</td> <td>          -0.2609</td>\n",
       "</tr>\n",
       "<tr>\n",
       "  <th>AR.2</th> <td>          -0.0907</td> <td>          +1.3243j</td> <td>           1.3274</td> <td>           0.2609</td>\n",
       "</tr>\n",
       "<tr>\n",
       "  <th>AR.3</th> <td>           1.2601</td> <td>          -0.0000j</td> <td>           1.2601</td> <td>          -0.0000</td>\n",
       "</tr>\n",
       "<tr>\n",
       "  <th>AR.4</th> <td>           2.7392</td> <td>          -0.0000j</td> <td>           2.7392</td> <td>          -0.0000</td>\n",
       "</tr>\n",
       "</table>"
      ],
      "text/plain": [
       "<class 'statsmodels.iolib.summary.Summary'>\n",
       "\"\"\"\n",
       "                              ARMA Model Results                              \n",
       "==============================================================================\n",
       "Dep. Variable:                      y   No. Observations:                  600\n",
       "Model:                     ARMA(4, 0)   Log Likelihood                -857.813\n",
       "Method:                           mle   S.D. of innovations              1.009\n",
       "Date:                Sun, 02 May 2021   AIC                           1725.627\n",
       "Time:                        08:42:00   BIC                           1747.611\n",
       "Sample:                             0   HQIC                          1734.185\n",
       "                                                                              \n",
       "==============================================================================\n",
       "                 coef    std err          z      P>|z|      [0.025      0.975]\n",
       "------------------------------------------------------------------------------\n",
       "ar.L1.y        1.0557      0.040     26.196      0.000       0.977       1.135\n",
       "ar.L2.y       -0.7379      0.053    -13.834      0.000      -0.842      -0.633\n",
       "ar.L3.y        0.6278      0.054     11.729      0.000       0.523       0.733\n",
       "ar.L4.y       -0.1644      0.041     -4.057      0.000      -0.244      -0.085\n",
       "                                    Roots                                    \n",
       "=============================================================================\n",
       "                  Real          Imaginary           Modulus         Frequency\n",
       "-----------------------------------------------------------------------------\n",
       "AR.1           -0.0907           -1.3243j            1.3274           -0.2609\n",
       "AR.2           -0.0907           +1.3243j            1.3274            0.2609\n",
       "AR.3            1.2601           -0.0000j            1.2601           -0.0000\n",
       "AR.4            2.7392           -0.0000j            2.7392           -0.0000\n",
       "-----------------------------------------------------------------------------\n",
       "\"\"\""
      ]
     },
     "execution_count": 300,
     "metadata": {},
     "output_type": "execute_result"
    }
   ],
   "source": [
    "params =  AIC.model[0] \n",
    "print(params)\n",
    "M[params].summary()"
   ]
  },
  {
   "cell_type": "code",
   "execution_count": 302,
   "metadata": {},
   "outputs": [],
   "source": [
    "params =  AIC.model[5] "
   ]
  },
  {
   "cell_type": "code",
   "execution_count": 303,
   "metadata": {},
   "outputs": [],
   "source": [
    "#All significant, and quite close to real parameters"
   ]
  },
  {
   "cell_type": "code",
   "execution_count": 304,
   "metadata": {},
   "outputs": [
    {
     "data": {
      "image/png": "[encoded data removed]",
      "text/plain": [
       "<Figure size 432x288 with 1 Axes>"
      ]
     },
     "metadata": {
      "needs_background": "light"
     },
     "output_type": "display_data"
    }
   ],
   "source": [
    "r = M[params].resid\n",
    "sm.graphics.tsa.plot_acf(r, lags=20)\n",
    "plt.xlabel(r'$lags$',fontsize=16)\n",
    "plt.ylabel('ACF [residue]',fontsize=16)\n",
    "plt.tick_params(labelsize=14)\n",
    "plt.title(params,fontsize=16)\n",
    "plt.show()"
   ]
  },
  {
   "cell_type": "code",
   "execution_count": 305,
   "metadata": {},
   "outputs": [
    {
     "data": {
      "text/html": [
       "<div>\n",
       "<style scoped>\n",
       "    .dataframe tbody tr th:only-of-type {\n",
       "        vertical-align: middle;\n",
       "    }\n",
       "\n",
       "    .dataframe tbody tr th {\n",
       "        vertical-align: top;\n",
       "    }\n",
       "\n",
       "    .dataframe thead th {\n",
       "        text-align: right;\n",
       "    }\n",
       "</style>\n",
       "<table border=\"1\" class=\"dataframe\">\n",
       "  <thead>\n",
       "    <tr style=\"text-align: right;\">\n",
       "      <th></th>\n",
       "      <th>lb_stat</th>\n",
       "      <th>lb_pvalue</th>\n",
       "    </tr>\n",
       "  </thead>\n",
       "  <tbody>\n",
       "    <tr>\n",
       "      <th>5</th>\n",
       "      <td>2.866409</td>\n",
       "      <td>0.090446</td>\n",
       "    </tr>\n",
       "  </tbody>\n",
       "</table>\n",
       "</div>"
      ],
      "text/plain": [
       "    lb_stat  lb_pvalue\n",
       "5  2.866409   0.090446"
      ]
     },
     "execution_count": 305,
     "metadata": {},
     "output_type": "execute_result"
    }
   ],
   "source": [
    "p,q,trend = params\n",
    "acorr_ljungbox(r,lags=[p+q+1],model_df=p+q,return_df=True)"
   ]
  },
  {
   "cell_type": "code",
   "execution_count": 306,
   "metadata": {},
   "outputs": [],
   "source": [
    "params =  AIC.model[0] "
   ]
  },
  {
   "cell_type": "code",
   "execution_count": 307,
   "metadata": {},
   "outputs": [
    {
     "data": {
      "image/png": "[encoded data removed]",
      "text/plain": [
       "<Figure size 432x288 with 1 Axes>"
      ]
     },
     "metadata": {
      "needs_background": "light"
     },
     "output_type": "display_data"
    }
   ],
   "source": [
    "r = M[params].resid\n",
    "sm.graphics.tsa.plot_acf(r, lags=20)\n",
    "plt.xlabel(r'$lags$',fontsize=16)\n",
    "plt.ylabel('ACF [residue]',fontsize=16)\n",
    "plt.tick_params(labelsize=14)\n",
    "plt.title(params,fontsize=16)\n",
    "plt.show()"
   ]
  },
  {
   "cell_type": "code",
   "execution_count": 308,
   "metadata": {},
   "outputs": [
    {
     "data": {
      "text/html": [
       "<div>\n",
       "<style scoped>\n",
       "    .dataframe tbody tr th:only-of-type {\n",
       "        vertical-align: middle;\n",
       "    }\n",
       "\n",
       "    .dataframe tbody tr th {\n",
       "        vertical-align: top;\n",
       "    }\n",
       "\n",
       "    .dataframe thead th {\n",
       "        text-align: right;\n",
       "    }\n",
       "</style>\n",
       "<table border=\"1\" class=\"dataframe\">\n",
       "  <thead>\n",
       "    <tr style=\"text-align: right;\">\n",
       "      <th></th>\n",
       "      <th>lb_stat</th>\n",
       "      <th>lb_pvalue</th>\n",
       "    </tr>\n",
       "  </thead>\n",
       "  <tbody>\n",
       "    <tr>\n",
       "      <th>5</th>\n",
       "      <td>8.680686</td>\n",
       "      <td>0.003216</td>\n",
       "    </tr>\n",
       "  </tbody>\n",
       "</table>\n",
       "</div>"
      ],
      "text/plain": [
       "    lb_stat  lb_pvalue\n",
       "5  8.680686   0.003216"
      ]
     },
     "execution_count": 308,
     "metadata": {},
     "output_type": "execute_result"
    }
   ],
   "source": [
    "p,q,trend = params\n",
    "acorr_ljungbox(r,lags=[p+q+1],model_df=p+q,return_df=True)"
   ]
  },
  {
   "cell_type": "code",
   "execution_count": null,
   "metadata": {},
   "outputs": [],
   "source": []
  },
  {
   "cell_type": "code",
   "execution_count": 231,
   "metadata": {},
   "outputs": [],
   "source": [
    "# It's ok. We can accept ARMA(3,1)"
   ]
  },
  {
   "cell_type": "code",
   "execution_count": null,
   "metadata": {},
   "outputs": [],
   "source": []
  },
  {
   "cell_type": "markdown",
   "metadata": {},
   "source": [
    "# Increase time-series length [low higher lag strenth]"
   ]
  },
  {
   "cell_type": "code",
   "execution_count": 183,
   "metadata": {},
   "outputs": [],
   "source": [
    "import numpy as np\n",
    "import statsmodels.api as sm\n",
    "\n",
    "#Just to have the same time-series for all the class\n",
    "np.random.seed(0)\n",
    "\n",
    "arparams = np.array([0.7,-0.2,0.2])  # low strength for 2,3 lags\n",
    "maparams = np.array([0.4])\n",
    "ar = np.r_[1, -arparams] # add zero-lag and negate\n",
    "ma = np.r_[1, maparams] # add zero-lag\n",
    "arma_process = sm.tsa.ArmaProcess(ar, ma)\n",
    "\n",
    "dump=100\n",
    "T=1500  # longer time-series 600 -> 1500\n",
    "s = sm.tsa.arma_generate_sample(ar, ma,T,burnin=dump )"
   ]
  },
  {
   "cell_type": "code",
   "execution_count": 179,
   "metadata": {},
   "outputs": [
    {
     "data": {
      "image/png": "[encoded data removed]",
      "text/plain": [
       "<Figure size 432x288 with 1 Axes>"
      ]
     },
     "metadata": {
      "needs_background": "light"
     },
     "output_type": "display_data"
    }
   ],
   "source": [
    "sm.graphics.tsa.plot_acf(s, lags=20)\n",
    "plt.xlabel(r'$lags$',fontsize=16)\n",
    "plt.ylabel('ACF',fontsize=16)\n",
    "plt.tick_params(labelsize=14)\n",
    "plt.show()"
   ]
  },
  {
   "cell_type": "code",
   "execution_count": 180,
   "metadata": {},
   "outputs": [
    {
     "data": {
      "image/png": "[encoded data removed]",
      "text/plain": [
       "<Figure size 432x288 with 1 Axes>"
      ]
     },
     "metadata": {
      "needs_background": "light"
     },
     "output_type": "display_data"
    }
   ],
   "source": [
    "sm.graphics.tsa.plot_pacf(s, lags=20)\n",
    "plt.xlabel(r'$lags$',fontsize=16)\n",
    "plt.ylabel('PACF',fontsize=16)\n",
    "plt.tick_params(labelsize=14)\n",
    "plt.show()"
   ]
  },
  {
   "cell_type": "code",
   "execution_count": 184,
   "metadata": {},
   "outputs": [],
   "source": [
    "models = [(4,0,'n'),(4,0,'nc'),\n",
    "          (1,1,'n'),(1,1,'nc'),\n",
    "          (2,1,'n'),(2,1,'nc'),\n",
    "          (1,2,'n'),(1,2,'nc'),\n",
    "          (2,2,'n'),(2,2,'nc'),\n",
    "          (3,1,'n'),(3,1,'nc')] #We can include more ARMA indeed"
   ]
  },
  {
   "cell_type": "code",
   "execution_count": 185,
   "metadata": {},
   "outputs": [
    {
     "name": "stderr",
     "output_type": "stream",
     "text": [
      "/usr/local/lib/python3.8/dist-packages/statsmodels/tsa/arima_model.py:472: FutureWarning: \n",
      "statsmodels.tsa.arima_model.ARMA and statsmodels.tsa.arima_model.ARIMA have\n",
      "been deprecated in favor of statsmodels.tsa.arima.model.ARIMA (note the .\n",
      "between arima and model) and\n",
      "statsmodels.tsa.SARIMAX. These will be removed after the 0.12 release.\n",
      "\n",
      "statsmodels.tsa.arima.model.ARIMA makes use of the statespace framework and\n",
      "is both well tested and maintained.\n",
      "\n",
      "To silence this warning and continue using ARMA and ARIMA until they are\n",
      "removed, use:\n",
      "\n",
      "import warnings\n",
      "warnings.filterwarnings('ignore', 'statsmodels.tsa.arima_model.ARMA',\n",
      "                        FutureWarning)\n",
      "warnings.filterwarnings('ignore', 'statsmodels.tsa.arima_model.ARIMA',\n",
      "                        FutureWarning)\n",
      "\n",
      "  warnings.warn(ARIMA_DEPRECATION_WARN, FutureWarning)\n"
     ]
    },
    {
     "name": "stdout",
     "output_type": "stream",
     "text": [
      "4 0 n Maybe not stationary\n",
      "1 1 n Maybe not stationary\n"
     ]
    },
    {
     "name": "stderr",
     "output_type": "stream",
     "text": [
      "/usr/local/lib/python3.8/dist-packages/statsmodels/tsa/arima_model.py:472: FutureWarning: \n",
      "statsmodels.tsa.arima_model.ARMA and statsmodels.tsa.arima_model.ARIMA have\n",
      "been deprecated in favor of statsmodels.tsa.arima.model.ARIMA (note the .\n",
      "between arima and model) and\n",
      "statsmodels.tsa.SARIMAX. These will be removed after the 0.12 release.\n",
      "\n",
      "statsmodels.tsa.arima.model.ARIMA makes use of the statespace framework and\n",
      "is both well tested and maintained.\n",
      "\n",
      "To silence this warning and continue using ARMA and ARIMA until they are\n",
      "removed, use:\n",
      "\n",
      "import warnings\n",
      "warnings.filterwarnings('ignore', 'statsmodels.tsa.arima_model.ARMA',\n",
      "                        FutureWarning)\n",
      "warnings.filterwarnings('ignore', 'statsmodels.tsa.arima_model.ARIMA',\n",
      "                        FutureWarning)\n",
      "\n",
      "  warnings.warn(ARIMA_DEPRECATION_WARN, FutureWarning)\n"
     ]
    },
    {
     "name": "stdout",
     "output_type": "stream",
     "text": [
      "2 1 n Maybe not stationary\n"
     ]
    },
    {
     "name": "stderr",
     "output_type": "stream",
     "text": [
      "/usr/local/lib/python3.8/dist-packages/statsmodels/tsa/arima_model.py:472: FutureWarning: \n",
      "statsmodels.tsa.arima_model.ARMA and statsmodels.tsa.arima_model.ARIMA have\n",
      "been deprecated in favor of statsmodels.tsa.arima.model.ARIMA (note the .\n",
      "between arima and model) and\n",
      "statsmodels.tsa.SARIMAX. These will be removed after the 0.12 release.\n",
      "\n",
      "statsmodels.tsa.arima.model.ARIMA makes use of the statespace framework and\n",
      "is both well tested and maintained.\n",
      "\n",
      "To silence this warning and continue using ARMA and ARIMA until they are\n",
      "removed, use:\n",
      "\n",
      "import warnings\n",
      "warnings.filterwarnings('ignore', 'statsmodels.tsa.arima_model.ARMA',\n",
      "                        FutureWarning)\n",
      "warnings.filterwarnings('ignore', 'statsmodels.tsa.arima_model.ARIMA',\n",
      "                        FutureWarning)\n",
      "\n",
      "  warnings.warn(ARIMA_DEPRECATION_WARN, FutureWarning)\n"
     ]
    },
    {
     "name": "stdout",
     "output_type": "stream",
     "text": [
      "1 2 n Maybe not stationary\n"
     ]
    },
    {
     "name": "stderr",
     "output_type": "stream",
     "text": [
      "/usr/local/lib/python3.8/dist-packages/statsmodels/tsa/arima_model.py:472: FutureWarning: \n",
      "statsmodels.tsa.arima_model.ARMA and statsmodels.tsa.arima_model.ARIMA have\n",
      "been deprecated in favor of statsmodels.tsa.arima.model.ARIMA (note the .\n",
      "between arima and model) and\n",
      "statsmodels.tsa.SARIMAX. These will be removed after the 0.12 release.\n",
      "\n",
      "statsmodels.tsa.arima.model.ARIMA makes use of the statespace framework and\n",
      "is both well tested and maintained.\n",
      "\n",
      "To silence this warning and continue using ARMA and ARIMA until they are\n",
      "removed, use:\n",
      "\n",
      "import warnings\n",
      "warnings.filterwarnings('ignore', 'statsmodels.tsa.arima_model.ARMA',\n",
      "                        FutureWarning)\n",
      "warnings.filterwarnings('ignore', 'statsmodels.tsa.arima_model.ARIMA',\n",
      "                        FutureWarning)\n",
      "\n",
      "  warnings.warn(ARIMA_DEPRECATION_WARN, FutureWarning)\n"
     ]
    },
    {
     "name": "stdout",
     "output_type": "stream",
     "text": [
      "2 2 n Maybe not stationary\n"
     ]
    },
    {
     "name": "stderr",
     "output_type": "stream",
     "text": [
      "/usr/local/lib/python3.8/dist-packages/statsmodels/tsa/arima_model.py:472: FutureWarning: \n",
      "statsmodels.tsa.arima_model.ARMA and statsmodels.tsa.arima_model.ARIMA have\n",
      "been deprecated in favor of statsmodels.tsa.arima.model.ARIMA (note the .\n",
      "between arima and model) and\n",
      "statsmodels.tsa.SARIMAX. These will be removed after the 0.12 release.\n",
      "\n",
      "statsmodels.tsa.arima.model.ARIMA makes use of the statespace framework and\n",
      "is both well tested and maintained.\n",
      "\n",
      "To silence this warning and continue using ARMA and ARIMA until they are\n",
      "removed, use:\n",
      "\n",
      "import warnings\n",
      "warnings.filterwarnings('ignore', 'statsmodels.tsa.arima_model.ARMA',\n",
      "                        FutureWarning)\n",
      "warnings.filterwarnings('ignore', 'statsmodels.tsa.arima_model.ARIMA',\n",
      "                        FutureWarning)\n",
      "\n",
      "  warnings.warn(ARIMA_DEPRECATION_WARN, FutureWarning)\n"
     ]
    },
    {
     "name": "stdout",
     "output_type": "stream",
     "text": [
      "3 1 n Maybe not stationary\n"
     ]
    }
   ],
   "source": [
    "M = {}\n",
    "for p,q,trend in models:\n",
    "    try:\n",
    "        #fit an arma (for now without trend)\n",
    "        ft = ARMA(s,(p,q)).fit(method='mle',trend=trend)\n",
    "        M[p,q,trend] = ft\n",
    "    except ValueError:\n",
    "        print(p,q,trend,'Maybe not stationary')"
   ]
  },
  {
   "cell_type": "code",
   "execution_count": 186,
   "metadata": {},
   "outputs": [
    {
     "data": {
      "text/html": [
       "<div>\n",
       "<style scoped>\n",
       "    .dataframe tbody tr th:only-of-type {\n",
       "        vertical-align: middle;\n",
       "    }\n",
       "\n",
       "    .dataframe tbody tr th {\n",
       "        vertical-align: top;\n",
       "    }\n",
       "\n",
       "    .dataframe thead th {\n",
       "        text-align: right;\n",
       "    }\n",
       "</style>\n",
       "<table border=\"1\" class=\"dataframe\">\n",
       "  <thead>\n",
       "    <tr style=\"text-align: right;\">\n",
       "      <th></th>\n",
       "      <th>model</th>\n",
       "      <th>AIC</th>\n",
       "      <th>dAIC</th>\n",
       "    </tr>\n",
       "  </thead>\n",
       "  <tbody>\n",
       "    <tr>\n",
       "      <th>0</th>\n",
       "      <td>(4, 0, nc)</td>\n",
       "      <td>4207.388942</td>\n",
       "      <td>9.787907</td>\n",
       "    </tr>\n",
       "    <tr>\n",
       "      <th>1</th>\n",
       "      <td>(1, 1, nc)</td>\n",
       "      <td>4231.662324</td>\n",
       "      <td>34.061288</td>\n",
       "    </tr>\n",
       "    <tr>\n",
       "      <th>2</th>\n",
       "      <td>(2, 1, nc)</td>\n",
       "      <td>4214.196267</td>\n",
       "      <td>16.595231</td>\n",
       "    </tr>\n",
       "    <tr>\n",
       "      <th>3</th>\n",
       "      <td>(1, 2, nc)</td>\n",
       "      <td>4200.746752</td>\n",
       "      <td>3.145717</td>\n",
       "    </tr>\n",
       "    <tr>\n",
       "      <th>4</th>\n",
       "      <td>(2, 2, nc)</td>\n",
       "      <td>4199.216616</td>\n",
       "      <td>1.615580</td>\n",
       "    </tr>\n",
       "    <tr>\n",
       "      <th>5</th>\n",
       "      <td>(3, 1, nc)</td>\n",
       "      <td>4197.601035</td>\n",
       "      <td>0.000000</td>\n",
       "    </tr>\n",
       "  </tbody>\n",
       "</table>\n",
       "</div>"
      ],
      "text/plain": [
       "        model          AIC       dAIC\n",
       "0  (4, 0, nc)  4207.388942   9.787907\n",
       "1  (1, 1, nc)  4231.662324  34.061288\n",
       "2  (2, 1, nc)  4214.196267  16.595231\n",
       "3  (1, 2, nc)  4200.746752   3.145717\n",
       "4  (2, 2, nc)  4199.216616   1.615580\n",
       "5  (3, 1, nc)  4197.601035   0.000000"
      ]
     },
     "execution_count": 186,
     "metadata": {},
     "output_type": "execute_result"
    }
   ],
   "source": [
    "AIC = pd.DataFrame( [(m,ft.aic) for m,ft in M.items()],columns=['model','AIC'] ) \n",
    "\n",
    "AIC = AIC.assign(dAIC=(AIC.AIC-AIC.AIC.min()))\n",
    "\n",
    "AIC"
   ]
  },
  {
   "cell_type": "code",
   "execution_count": 224,
   "metadata": {},
   "outputs": [],
   "source": [
    "#Model ARMA(3,1) is the better, ARMA(4,0) cannot be rejected"
   ]
  },
  {
   "cell_type": "code",
   "execution_count": 225,
   "metadata": {},
   "outputs": [
    {
     "name": "stdout",
     "output_type": "stream",
     "text": [
      "(3, 1, 'nc')\n"
     ]
    },
    {
     "data": {
      "text/html": [
       "<table class=\"simpletable\">\n",
       "<caption>ARMA Model Results</caption>\n",
       "<tr>\n",
       "  <th>Dep. Variable:</th>         <td>y</td>        <th>  No. Observations:  </th>    <td>600</td>  \n",
       "</tr>\n",
       "<tr>\n",
       "  <th>Model:</th>            <td>ARMA(3, 1)</td>    <th>  Log Likelihood     </th> <td>-855.188</td>\n",
       "</tr>\n",
       "<tr>\n",
       "  <th>Method:</th>               <td>mle</td>       <th>  S.D. of innovations</th>   <td>1.005</td> \n",
       "</tr>\n",
       "<tr>\n",
       "  <th>Date:</th>          <td>Sat, 01 May 2021</td> <th>  AIC                </th> <td>1720.376</td>\n",
       "</tr>\n",
       "<tr>\n",
       "  <th>Time:</th>              <td>12:14:32</td>     <th>  BIC                </th> <td>1742.361</td>\n",
       "</tr>\n",
       "<tr>\n",
       "  <th>Sample:</th>                <td>0</td>        <th>  HQIC               </th> <td>1728.935</td>\n",
       "</tr>\n",
       "<tr>\n",
       "  <th></th>                       <td> </td>        <th>                     </th>     <td> </td>   \n",
       "</tr>\n",
       "</table>\n",
       "<table class=\"simpletable\">\n",
       "<tr>\n",
       "     <td></td>        <th>coef</th>     <th>std err</th>      <th>z</th>      <th>P>|z|</th>  <th>[0.025</th>    <th>0.975]</th>  \n",
       "</tr>\n",
       "<tr>\n",
       "  <th>ar.L1.y</th> <td>    0.6601</td> <td>    0.075</td> <td>    8.755</td> <td> 0.000</td> <td>    0.512</td> <td>    0.808</td>\n",
       "</tr>\n",
       "<tr>\n",
       "  <th>ar.L2.y</th> <td>   -0.3517</td> <td>    0.080</td> <td>   -4.407</td> <td> 0.000</td> <td>   -0.508</td> <td>   -0.195</td>\n",
       "</tr>\n",
       "<tr>\n",
       "  <th>ar.L3.y</th> <td>    0.3897</td> <td>    0.047</td> <td>    8.298</td> <td> 0.000</td> <td>    0.298</td> <td>    0.482</td>\n",
       "</tr>\n",
       "<tr>\n",
       "  <th>ma.L1.y</th> <td>    0.4206</td> <td>    0.082</td> <td>    5.120</td> <td> 0.000</td> <td>    0.260</td> <td>    0.582</td>\n",
       "</tr>\n",
       "</table>\n",
       "<table class=\"simpletable\">\n",
       "<caption>Roots</caption>\n",
       "<tr>\n",
       "    <td></td>   <th>            Real</th>  <th>         Imaginary</th> <th>         Modulus</th>  <th>        Frequency</th>\n",
       "</tr>\n",
       "<tr>\n",
       "  <th>AR.1</th> <td>           1.2268</td> <td>          -0.0000j</td> <td>           1.2268</td> <td>          -0.0000</td>\n",
       "</tr>\n",
       "<tr>\n",
       "  <th>AR.2</th> <td>          -0.1622</td> <td>          -1.4371j</td> <td>           1.4463</td> <td>          -0.2679</td>\n",
       "</tr>\n",
       "<tr>\n",
       "  <th>AR.3</th> <td>          -0.1622</td> <td>          +1.4371j</td> <td>           1.4463</td> <td>           0.2679</td>\n",
       "</tr>\n",
       "<tr>\n",
       "  <th>MA.1</th> <td>          -2.3777</td> <td>          +0.0000j</td> <td>           2.3777</td> <td>           0.5000</td>\n",
       "</tr>\n",
       "</table>"
      ],
      "text/plain": [
       "<class 'statsmodels.iolib.summary.Summary'>\n",
       "\"\"\"\n",
       "                              ARMA Model Results                              \n",
       "==============================================================================\n",
       "Dep. Variable:                      y   No. Observations:                  600\n",
       "Model:                     ARMA(3, 1)   Log Likelihood                -855.188\n",
       "Method:                           mle   S.D. of innovations              1.005\n",
       "Date:                Sat, 01 May 2021   AIC                           1720.376\n",
       "Time:                        12:14:32   BIC                           1742.361\n",
       "Sample:                             0   HQIC                          1728.935\n",
       "                                                                              \n",
       "==============================================================================\n",
       "                 coef    std err          z      P>|z|      [0.025      0.975]\n",
       "------------------------------------------------------------------------------\n",
       "ar.L1.y        0.6601      0.075      8.755      0.000       0.512       0.808\n",
       "ar.L2.y       -0.3517      0.080     -4.407      0.000      -0.508      -0.195\n",
       "ar.L3.y        0.3897      0.047      8.298      0.000       0.298       0.482\n",
       "ma.L1.y        0.4206      0.082      5.120      0.000       0.260       0.582\n",
       "                                    Roots                                    \n",
       "=============================================================================\n",
       "                  Real          Imaginary           Modulus         Frequency\n",
       "-----------------------------------------------------------------------------\n",
       "AR.1            1.2268           -0.0000j            1.2268           -0.0000\n",
       "AR.2           -0.1622           -1.4371j            1.4463           -0.2679\n",
       "AR.3           -0.1622           +1.4371j            1.4463            0.2679\n",
       "MA.1           -2.3777           +0.0000j            2.3777            0.5000\n",
       "-----------------------------------------------------------------------------\n",
       "\"\"\""
      ]
     },
     "execution_count": 225,
     "metadata": {},
     "output_type": "execute_result"
    }
   ],
   "source": [
    "params =  AIC.model[5] \n",
    "print(params)\n",
    "M[params].summary()"
   ]
  },
  {
   "cell_type": "code",
   "execution_count": 226,
   "metadata": {},
   "outputs": [
    {
     "name": "stdout",
     "output_type": "stream",
     "text": [
      "(4, 0, 'nc')\n"
     ]
    },
    {
     "data": {
      "text/html": [
       "<table class=\"simpletable\">\n",
       "<caption>ARMA Model Results</caption>\n",
       "<tr>\n",
       "  <th>Dep. Variable:</th>         <td>y</td>        <th>  No. Observations:  </th>    <td>600</td>  \n",
       "</tr>\n",
       "<tr>\n",
       "  <th>Model:</th>            <td>ARMA(4, 0)</td>    <th>  Log Likelihood     </th> <td>-857.813</td>\n",
       "</tr>\n",
       "<tr>\n",
       "  <th>Method:</th>               <td>mle</td>       <th>  S.D. of innovations</th>   <td>1.009</td> \n",
       "</tr>\n",
       "<tr>\n",
       "  <th>Date:</th>          <td>Sat, 01 May 2021</td> <th>  AIC                </th> <td>1725.627</td>\n",
       "</tr>\n",
       "<tr>\n",
       "  <th>Time:</th>              <td>12:14:43</td>     <th>  BIC                </th> <td>1747.611</td>\n",
       "</tr>\n",
       "<tr>\n",
       "  <th>Sample:</th>                <td>0</td>        <th>  HQIC               </th> <td>1734.185</td>\n",
       "</tr>\n",
       "<tr>\n",
       "  <th></th>                       <td> </td>        <th>                     </th>     <td> </td>   \n",
       "</tr>\n",
       "</table>\n",
       "<table class=\"simpletable\">\n",
       "<tr>\n",
       "     <td></td>        <th>coef</th>     <th>std err</th>      <th>z</th>      <th>P>|z|</th>  <th>[0.025</th>    <th>0.975]</th>  \n",
       "</tr>\n",
       "<tr>\n",
       "  <th>ar.L1.y</th> <td>    1.0557</td> <td>    0.040</td> <td>   26.196</td> <td> 0.000</td> <td>    0.977</td> <td>    1.135</td>\n",
       "</tr>\n",
       "<tr>\n",
       "  <th>ar.L2.y</th> <td>   -0.7379</td> <td>    0.053</td> <td>  -13.834</td> <td> 0.000</td> <td>   -0.842</td> <td>   -0.633</td>\n",
       "</tr>\n",
       "<tr>\n",
       "  <th>ar.L3.y</th> <td>    0.6278</td> <td>    0.054</td> <td>   11.729</td> <td> 0.000</td> <td>    0.523</td> <td>    0.733</td>\n",
       "</tr>\n",
       "<tr>\n",
       "  <th>ar.L4.y</th> <td>   -0.1644</td> <td>    0.041</td> <td>   -4.057</td> <td> 0.000</td> <td>   -0.244</td> <td>   -0.085</td>\n",
       "</tr>\n",
       "</table>\n",
       "<table class=\"simpletable\">\n",
       "<caption>Roots</caption>\n",
       "<tr>\n",
       "    <td></td>   <th>            Real</th>  <th>         Imaginary</th> <th>         Modulus</th>  <th>        Frequency</th>\n",
       "</tr>\n",
       "<tr>\n",
       "  <th>AR.1</th> <td>          -0.0907</td> <td>          -1.3243j</td> <td>           1.3274</td> <td>          -0.2609</td>\n",
       "</tr>\n",
       "<tr>\n",
       "  <th>AR.2</th> <td>          -0.0907</td> <td>          +1.3243j</td> <td>           1.3274</td> <td>           0.2609</td>\n",
       "</tr>\n",
       "<tr>\n",
       "  <th>AR.3</th> <td>           1.2601</td> <td>          -0.0000j</td> <td>           1.2601</td> <td>          -0.0000</td>\n",
       "</tr>\n",
       "<tr>\n",
       "  <th>AR.4</th> <td>           2.7392</td> <td>          -0.0000j</td> <td>           2.7392</td> <td>          -0.0000</td>\n",
       "</tr>\n",
       "</table>"
      ],
      "text/plain": [
       "<class 'statsmodels.iolib.summary.Summary'>\n",
       "\"\"\"\n",
       "                              ARMA Model Results                              \n",
       "==============================================================================\n",
       "Dep. Variable:                      y   No. Observations:                  600\n",
       "Model:                     ARMA(4, 0)   Log Likelihood                -857.813\n",
       "Method:                           mle   S.D. of innovations              1.009\n",
       "Date:                Sat, 01 May 2021   AIC                           1725.627\n",
       "Time:                        12:14:43   BIC                           1747.611\n",
       "Sample:                             0   HQIC                          1734.185\n",
       "                                                                              \n",
       "==============================================================================\n",
       "                 coef    std err          z      P>|z|      [0.025      0.975]\n",
       "------------------------------------------------------------------------------\n",
       "ar.L1.y        1.0557      0.040     26.196      0.000       0.977       1.135\n",
       "ar.L2.y       -0.7379      0.053    -13.834      0.000      -0.842      -0.633\n",
       "ar.L3.y        0.6278      0.054     11.729      0.000       0.523       0.733\n",
       "ar.L4.y       -0.1644      0.041     -4.057      0.000      -0.244      -0.085\n",
       "                                    Roots                                    \n",
       "=============================================================================\n",
       "                  Real          Imaginary           Modulus         Frequency\n",
       "-----------------------------------------------------------------------------\n",
       "AR.1           -0.0907           -1.3243j            1.3274           -0.2609\n",
       "AR.2           -0.0907           +1.3243j            1.3274            0.2609\n",
       "AR.3            1.2601           -0.0000j            1.2601           -0.0000\n",
       "AR.4            2.7392           -0.0000j            2.7392           -0.0000\n",
       "-----------------------------------------------------------------------------\n",
       "\"\"\""
      ]
     },
     "execution_count": 226,
     "metadata": {},
     "output_type": "execute_result"
    }
   ],
   "source": [
    "params =  AIC.model[0] \n",
    "print(params)\n",
    "M[params].summary()"
   ]
  },
  {
   "cell_type": "code",
   "execution_count": null,
   "metadata": {},
   "outputs": [],
   "source": [
    "#All significant. Let us look at the residue"
   ]
  },
  {
   "cell_type": "code",
   "execution_count": 227,
   "metadata": {},
   "outputs": [],
   "source": [
    "rs = {params: M[params].resid for params in AIC.model[[5,0]]}"
   ]
  },
  {
   "cell_type": "code",
   "execution_count": 228,
   "metadata": {},
   "outputs": [
    {
     "data": {
      "image/png": "[encoded data removed]",
      "text/plain": [
       "<Figure size 432x288 with 1 Axes>"
      ]
     },
     "metadata": {
      "needs_background": "light"
     },
     "output_type": "display_data"
    },
    {
     "data": {
      "image/png": "[encoded data removed]",
      "text/plain": [
       "<Figure size 432x288 with 1 Axes>"
      ]
     },
     "metadata": {
      "needs_background": "light"
     },
     "output_type": "display_data"
    }
   ],
   "source": [
    "for params,r in rs.items():\n",
    "    sm.graphics.tsa.plot_acf(r, lags=20)\n",
    "    plt.xlabel(r'$lags$',fontsize=16)\n",
    "    plt.ylabel('ACF [residue]',fontsize=16)\n",
    "    plt.tick_params(labelsize=14)\n",
    "    plt.title(params,fontsize=16)\n",
    "    plt.show()"
   ]
  },
  {
   "cell_type": "code",
   "execution_count": null,
   "metadata": {},
   "outputs": [],
   "source": [
    "#It seems that ARMA(4,0) has a lag significant"
   ]
  },
  {
   "cell_type": "code",
   "execution_count": 229,
   "metadata": {},
   "outputs": [],
   "source": [
    "Qtest = []  \n",
    "for (p,q,trend),r in rs.items():\n",
    "    pvalue = acorr_ljungbox(r,lags=[p+q+1],model_df=p+q,return_df=True)['lb_pvalue'][p+q+1]\n",
    "    Qtest.append(( (p,q,trend), pvalue))\n",
    "Qtest = pd.DataFrame( Qtest, columns=['model','residue pvalues'] )"
   ]
  },
  {
   "cell_type": "code",
   "execution_count": 230,
   "metadata": {},
   "outputs": [
    {
     "data": {
      "text/html": [
       "<div>\n",
       "<style scoped>\n",
       "    .dataframe tbody tr th:only-of-type {\n",
       "        vertical-align: middle;\n",
       "    }\n",
       "\n",
       "    .dataframe tbody tr th {\n",
       "        vertical-align: top;\n",
       "    }\n",
       "\n",
       "    .dataframe thead th {\n",
       "        text-align: right;\n",
       "    }\n",
       "</style>\n",
       "<table border=\"1\" class=\"dataframe\">\n",
       "  <thead>\n",
       "    <tr style=\"text-align: right;\">\n",
       "      <th></th>\n",
       "      <th>model</th>\n",
       "      <th>residue pvalues</th>\n",
       "    </tr>\n",
       "  </thead>\n",
       "  <tbody>\n",
       "    <tr>\n",
       "      <th>0</th>\n",
       "      <td>(3, 1, nc)</td>\n",
       "      <td>0.090446</td>\n",
       "    </tr>\n",
       "    <tr>\n",
       "      <th>1</th>\n",
       "      <td>(4, 0, nc)</td>\n",
       "      <td>0.003216</td>\n",
       "    </tr>\n",
       "  </tbody>\n",
       "</table>\n",
       "</div>"
      ],
      "text/plain": [
       "        model  residue pvalues\n",
       "0  (3, 1, nc)         0.090446\n",
       "1  (4, 0, nc)         0.003216"
      ]
     },
     "execution_count": 230,
     "metadata": {},
     "output_type": "execute_result"
    }
   ],
   "source": [
    "Qtest"
   ]
  },
  {
   "cell_type": "code",
   "execution_count": null,
   "metadata": {},
   "outputs": [],
   "source": [
    "#Yes, we can reject ARMA(4,0). Best model is ARMA(3,1)\n",
    "#Indeed if they were both ok, I would prefer ARMA(3,1) both for the AIC and less lag"
   ]
  },
  {
   "cell_type": "code",
   "execution_count": null,
   "metadata": {},
   "outputs": [],
   "source": []
  },
  {
   "cell_type": "code",
   "execution_count": null,
   "metadata": {},
   "outputs": [],
   "source": []
  },
  {
   "cell_type": "code",
   "execution_count": null,
   "metadata": {},
   "outputs": [],
   "source": []
  }
 ],
 "metadata": {
  "kernelspec": {
   "display_name": "Python 3",
   "language": "python",
   "name": "python3"
  },
  "language_info": {
   "codemirror_mode": {
    "name": "ipython",
    "version": 3
   },
   "file_extension": ".py",
   "mimetype": "text/x-python",
   "name": "python",
   "nbconvert_exporter": "python",
   "pygments_lexer": "ipython3",
   "version": "3.8.5"
  }
 },
 "nbformat": 4,
 "nbformat_minor": 4
}
