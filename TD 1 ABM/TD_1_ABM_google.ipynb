{
  "nbformat": 4,
  "nbformat_minor": 0,
  "metadata": {
    "language_info": {
      "codemirror_mode": {
        "name": "ipython",
        "version": 3
      },
      "file_extension": ".py",
      "mimetype": "text/x-python",
      "name": "python",
      "nbconvert_exporter": "python",
      "pygments_lexer": "ipython3",
      "version": "3.7.4"
    },
    "orig_nbformat": 2,
    "kernelspec": {
      "name": "python374jvsc74a57bd01c05342fe5e00ca7763d1f21f201ea83bc1a8de97daf907116ceeb1fbebd8ced",
      "display_name": "Python 3.7.4 64-bit ('PointWitureVenv': venv)"
    },
    "colab": {
      "name": "TD_1_ABM.ipynb",
      "provenance": [],
      "collapsed_sections": []
    }
  },
  "cells": [
    {
      "cell_type": "markdown",
      "metadata": {
        "id": "SHw2kJxoW-AZ"
      },
      "source": [
        "# ST4 MDS : TP 1 Model Based Agent"
      ]
    },
    {
      "cell_type": "markdown",
      "metadata": {
        "id": "iq1SK1ufW-Ab"
      },
      "source": [
        "![CentraleSupelec Logo](https://www.centralesupelec.fr/sites/all/themes/cs_theme/medias/common/images/intro/logo_nouveau.jpg)"
      ]
    },
    {
      "cell_type": "markdown",
      "metadata": {
        "id": "7ZgOSLyqW-Ac"
      },
      "source": [
        "## But du TP : \n",
        "Quantifier l’influence de stratégies sur la dynamique des\n",
        "prix: \n",
        "* 1. Créer un prix avec rendements aléatoires de variance\n",
        "donnée\n",
        "* 2. Ajouter un groupe d’agents qui utilisent une stratégie\n",
        "donnée\n",
        "* 3. Mesurer l’influence de l’utilisation de cette stratégie sur la\n",
        "dynamique des rendements\n",
        "* 4. Idem avec plusieurs stratégies et plusieurs groupes"
      ]
    },
    {
      "cell_type": "code",
      "metadata": {
        "id": "PxxjMxx6W-Ad"
      },
      "source": [
        "import numpy as np \n",
        "import random as rd \n",
        "import matplotlib.pyplot as plt\n",
        "import seaborn as sns \n",
        "import statsmodels.api as sm"
      ],
      "execution_count": 3,
      "outputs": [
        {
          "output_type": "error",
          "ename": "ModuleNotFoundError",
          "evalue": "No module named 'statsmodels'",
          "traceback": [
            "\u001b[1;31m---------------------------------------------------------------------------\u001b[0m",
            "\u001b[1;31mModuleNotFoundError\u001b[0m                       Traceback (most recent call last)",
            "\u001b[1;32m<ipython-input-3-9d1804c46b41>\u001b[0m in \u001b[0;36m<module>\u001b[1;34m\u001b[0m\n\u001b[0;32m      3\u001b[0m \u001b[1;32mimport\u001b[0m \u001b[0mmatplotlib\u001b[0m\u001b[1;33m.\u001b[0m\u001b[0mpyplot\u001b[0m \u001b[1;32mas\u001b[0m \u001b[0mplt\u001b[0m\u001b[1;33m\u001b[0m\u001b[1;33m\u001b[0m\u001b[0m\n\u001b[0;32m      4\u001b[0m \u001b[1;32mimport\u001b[0m \u001b[0mseaborn\u001b[0m \u001b[1;32mas\u001b[0m \u001b[0msns\u001b[0m\u001b[1;33m\u001b[0m\u001b[1;33m\u001b[0m\u001b[0m\n\u001b[1;32m----> 5\u001b[1;33m \u001b[1;32mimport\u001b[0m \u001b[0mstatsmodels\u001b[0m\u001b[1;33m.\u001b[0m\u001b[0mapi\u001b[0m \u001b[1;32mas\u001b[0m \u001b[0msm\u001b[0m\u001b[1;33m\u001b[0m\u001b[1;33m\u001b[0m\u001b[0m\n\u001b[0m",
            "\u001b[1;31mModuleNotFoundError\u001b[0m: No module named 'statsmodels'"
          ]
        }
      ]
    },
    {
      "cell_type": "code",
      "metadata": {
        "id": "Cl5j6svBW-Ae"
      },
      "source": [
        "__author__ = \"Colleville Tanguy, Matthieu Briet\"\n",
        "__copyright__ = \"None\"\n",
        "__credits__ = [\"None\"]\n",
        "__license__ = \"None\"\n",
        "__version__ = \"1.0.0\"\n",
        "__maintainer__ = \"Colleville Tanguy, Matthieu Briet\"\n",
        "__email__ = \"tanguy.colleville@student-cs.fr, matthieu.briet@student-cs.fr\"\n",
        "__status__ = \"Dev\""
      ],
      "execution_count": null,
      "outputs": []
    },
    {
      "cell_type": "markdown",
      "metadata": {
        "id": "ybKW_rlGW-Ae"
      },
      "source": [
        "## 1. Créer un prix aléatoire"
      ]
    },
    {
      "cell_type": "code",
      "metadata": {
        "id": "9f0YmtT_W-Af"
      },
      "source": [
        "np.random.seed(0)"
      ],
      "execution_count": null,
      "outputs": []
    },
    {
      "source": [
        "On ajoute un bruit: $$\\epsilon_{t} \\sim \\mathcal{N}(\\mu=0,\\,\\sigma^{2}=1)$$ tel que le log-prix soit donné par :\n",
        "$$ p_{t+1}=p_{t}+\\epsilon_{t+1}$$"
      ],
      "cell_type": "markdown",
      "metadata": {}
    },
    {
      "cell_type": "code",
      "metadata": {
        "id": "ZKKQEV5NW-Af"
      },
      "source": [
        "NIT=1000 ### nombre d'itérations \n",
        "epsilon=np.random.normal(size=NIT)## vecteur de longueur NIT d'une VA N(0,1)\n",
        "P_0=1 ## prix initial \n",
        "p_0=np.log(P_0)\n",
        "p_t=p_0+np.cumsum(epsilon)\n",
        "color=['blue','yellow','red','green','black','orange','pink','grey','brown','purple']"
      ],
      "execution_count": null,
      "outputs": []
    },
    {
      "cell_type": "code",
      "metadata": {
        "colab": {
          "base_uri": "https://localhost:8080/",
          "height": 404
        },
        "id": "mRGFYtmSW-Af",
        "outputId": "befcc478-d333-4c3a-8f2c-87d356860744"
      },
      "source": [
        "plt.figure(figsize=(10,6))\n",
        "plt.plot(p_t,c=\"blue\",alpha=0.7,label=\"price\")\n",
        "# plt.plot(pd.Series(p_t).rolling(5).mean(),c=\"red\",alpha=0.7,label=\"mean\")\n",
        "plt.title(\"Price evolution\")\n",
        "plt.xlabel(\"Temps\")\n",
        "plt.ylabel(\"Log Prix\")\n",
        "plt.legend()\n",
        "plt.grid()\n",
        "plt.show()"
      ],
      "execution_count": null,
      "outputs": []
    },
    {
      "cell_type": "markdown",
      "metadata": {
        "id": "Utu5jMcuW-Ah"
      },
      "source": [
        "## 2. Mélange d’agents aléatoires et stratégiques"
      ]
    },
    {
      "cell_type": "markdown",
      "metadata": {
        "id": "vsMBhnrRW-Ai"
      },
      "source": [
        "Stratégie 1 : Moyenne mobile -> suivi de tendance"
      ]
    },
    {
      "source": [
        "On ajoute ici un agent stratégique de poids $\\phi_{​​​​​​​1}​​​​​​​$ et on définit une stratégie ainsi:\n",
        "$$\\omega_{1,t+1}=\\phi_1\\cdot a_{1,t}(information_{t-1})$$ avec dans le cas de moyenne mobile retenue : $a_{1,t}=signe(p_{t}-MA_{k,t})$ sachant que $MA_{k,t}=\\frac{1}{k} \\cdot \\sum_{i=1}^{k-1} p_{t-i} $\n",
        "\n",
        " \n",
        "\n",
        "Le prix sera maintenant donné par $p_{t+1}=p_{t}+\\epsilon_{t+1}+\\omega_{t+1}=p_{t}+r_{t+1}$ avec $r_{t}=\\epsilon_{t}+\\omega_{t}$"
      ],
      "cell_type": "markdown",
      "metadata": {}
    },
    {
      "cell_type": "code",
      "metadata": {
        "id": "AR0SwkrSW-Aj"
      },
      "source": [
        "def Strat_moyenne(weigth_a,k=50): \n",
        "  \"\"\"\n",
        "  Entrées : Weight_a: float/int le poids à accorder à la méthode\n",
        "  k : int la période de glissement, doit-être un entier\n",
        "  ====================================================================\n",
        "  But : Calcul avec la méthode de la moyenne pour un poids a\n",
        "  ====================================================================\n",
        "  Sorties : le nouveau prix conformément à la méthode moyenne glissante : une liste \n",
        "            et le retour sous forme de liste \n",
        "  \"\"\"\n",
        "  r_t=[0]*k\n",
        "  p_new=p_t[:k].tolist()\n",
        "  for i in range(k,NIT):\n",
        "      omega=np.sign(p_new[-1]-np.mean(p_new[i-k:]))\n",
        "      r_t.append(epsilon[i]+weigth_a*omega)\n",
        "      p_new.append(p_new[-1]+r_t[-1])\n",
        "  return p_new,r_t"
      ],
      "execution_count": null,
      "outputs": []
    },
    {
      "cell_type": "markdown",
      "metadata": {
        "id": "2jerv0SuW-Ak"
      },
      "source": [
        "## 3. Mesurer l’influence de cette stratégie"
      ]
    },
    {
      "cell_type": "markdown",
      "metadata": {
        "id": "NlIgVLNRW-Ak"
      },
      "source": [
        "### 3.1 stratégie moyenne mobile suivi de tendance"
      ]
    },
    {
      "cell_type": "code",
      "execution_count": null,
      "metadata": {},
      "outputs": [],
      "source": [
        "W=np.linspace(0,0.5,5)## les différents poids "
      ]
    },
    {
      "cell_type": "code",
      "metadata": {
        "colab": {
          "base_uri": "https://localhost:8080/",
          "height": 404
        },
        "id": "7mleUWXrW-Ak",
        "outputId": "f75e10a4-a65a-419e-8852-3400b6fec59d",
        "tags": []
      },
      "source": [
        "plt.figure(figsize=(10,6))\n",
        "for index,w in enumerate(W):\n",
        "    plt.plot(Strat_moyenne(w)[0],c=color[index],label=f\"poids {round(w,2)}\",alpha=0.5)\n",
        "plt.title(\"Evolution du log prix, stratégie moyenne mobile suivi de tendance \")\n",
        "plt.xlabel(\"Temps\")\n",
        "plt.ylabel(\"log prix\")\n",
        "plt.grid()\n",
        "plt.legend()\n",
        "plt.show()"
      ],
      "execution_count": null,
      "outputs": []
    },
    {
      "cell_type": "code",
      "metadata": {
        "id": "X-BJoaQvW-Ak",
        "outputId": "f20e0f37-94b5-465d-a8c2-ee6fd4341936"
      },
      "source": [
        "for index,w in enumerate(W):\n",
        "    print(f\"variance de r pour poids {round(w,2)}: \\u03C3² = \",round(np.var(Strat_moyenne(w)[1]),4))"
      ],
      "execution_count": null,
      "outputs": []
    },
    {
      "source": [
        "On constate que la variance augmente avec le poids accordé à la stratégie suivie de tendance ce qui montre une amplitude de variation plus grande des log prix."
      ],
      "cell_type": "markdown",
      "metadata": {}
    },
    {
      "cell_type": "code",
      "execution_count": null,
      "metadata": {},
      "outputs": [],
      "source": [
        "plt.figure(figsize=(10,6))\n",
        "k=5\n",
        "for index,w in enumerate(W):\n",
        "    sm.graphics.tsa.plot_acf(Strat_moyenne(w)[1],lags=10*k,color=color[index],label=f\"poids : {round(w,2)}\",alpha=0.5)\n",
        "    plt.title(\"Autocorrelation\")\n",
        "    plt.xlabel(\"Lags\")\n",
        "    plt.ylabel(\"Autocorrelation\")\n",
        "    plt.grid()\n",
        "    plt.legend()\n",
        "plt.show()"
      ]
    },
    {
      "source": [
        "Un diagramme d'autocorrélation permet d'analyser si les données sont statistiquement signifiantes. Dans le cas où le pic est dehors de la bande bleu, cela veut dire qu'il est statistiquement signifiant. On peut alors voir que plus le poids augmente plus le nombre de termes statistiquement signifiants augmente et c'est normal puisqu'on donne plus d'importance à la stratégie suivie de moyenne qui se bases sur des valeurs passées,donc les corrélations sont plus fortes. "
      ],
      "cell_type": "markdown",
      "metadata": {}
    },
    {
      "source": [
        "### Autocorrelation à un pas"
      ],
      "cell_type": "markdown",
      "metadata": {}
    },
    {
      "source": [
        "On va à présent calculer l'autocorrelation $C(\\tau)=\\frac {E(r_{t}r_{t+\\tau})-E(r_{t})^2}{Var(r_t)} $"
      ],
      "cell_type": "markdown",
      "metadata": {}
    },
    {
      "cell_type": "code",
      "execution_count": null,
      "metadata": {},
      "outputs": [],
      "source": [
        "def autocorr(x):\n",
        "    \"\"\"\n",
        "    Entrée(s) : un np.array() ou liste du return notamment\n",
        "    ========================================\n",
        "    But: Calculer l'autocorrélation à un pas d'une série temporelle\n",
        "    ========================================\n",
        "    Sortie(s) : l'autocorrélation de la série temporelle sous forme de np.array()\n",
        "    \"\"\"\n",
        "    result = np.correlate(x, x, mode='full')\n",
        "    return result[result.size // 2:] ## reshaping pour obtenir la longueur adéquate\n"
      ]
    },
    {
      "cell_type": "code",
      "metadata": {
        "id": "trteIeOBW-Al",
        "outputId": "4ee9ba68-71ba-436d-9c89-eb565aed053f"
      },
      "source": [
        "plt.figure(figsize=(10,6))\n",
        "k=5\n",
        "auto=[]\n",
        "W=np.linspace(0,1,15)\n",
        "for i in W:\n",
        "    autop=autocorr(Strat_moyenne(i)[1])\n",
        "    auto.append(autop[1]/float(autop.max()))\n",
        "plt.plot(W,auto,color=\"blue\",alpha=0.5)\n",
        "plt.title(\"Autocorrelation\")\n",
        "plt.xlabel(\"Poids : ${\\phi}_{1}$\")\n",
        "plt.ylabel(\"Autocorrelation\")\n",
        "plt.grid()\n",
        "plt.legend()\n",
        "plt.show()"
      ],
      "execution_count": null,
      "outputs": []
    },
    {
      "source": [
        "On peut voir que le plus le poids accordé à la stratégie de moyenne glissante augmente plus l'autocorrélation est importante ce qui vient confirmer ce qu'on a pu voir sur les diagrammes d'autocorrélation. Le lien se renforce avec le poids puisqu'on y accorde plus d'importance et donc de lien etant donné la stratégie de moyenne glissante.\n",
        "La tendance est devenue prévisible dans la mesure où l'autocorrélation atteint 50% pour un poids important. Cependant, on remarque également une augmentation de la variance ce qui montre également une importante variation. De plus, on notera qu'il est facile de détecter un agent qui utilise la méthode des moyennes glissantes."
      ],
      "cell_type": "markdown",
      "metadata": {}
    },
    {
      "cell_type": "code",
      "execution_count": null,
      "metadata": {},
      "outputs": [],
      "source": [
        "plt.figure(figsize=(10,6))\n",
        "long=100\n",
        "phi_1=[rd.random() for i in range(long)]## les différents poids \n",
        "Var=[np.var(Strat_moyenne(phi_1[i])[1]) for i in range(long)]\n",
        "plt.scatter(phi_1,Var,c=\"blue\",label=\"\")\n",
        "plt.title(\"Evolution de la variance  de r avec le poids\")\n",
        "plt.xlabel(\"Poids : ${\\phi}_{1}$\")\n",
        "plt.ylabel(\"Variance de r : \\u03C3² \")\n",
        "plt.grid()\n",
        "plt.legend()\n",
        "plt.show()"
      ]
    },
    {
      "source": [
        "Ici on remarque que la stratégie moyenne glissante vient augmenter les amplitudes de variation des returns, ce qu'on peut également voir sur les premières graphiques avec les logs-prix.  "
      ],
      "cell_type": "markdown",
      "metadata": {}
    },
    {
      "cell_type": "markdown",
      "metadata": {
        "id": "G_FRju1AW-An"
      },
      "source": [
        "## 4. Plusieurs stratégies, plusieurs groupes\n"
      ]
    },
    {
      "source": [
        "On sait que $$ {p}_{t+1} = {p}_{t}+I({A}_{t})$$  or $$ I({A}_{t})={A}_{t}$$ et $${A}_{t} = \\sum {a}_{i,t}  $$ avec $a_{i,t}$ la stratégie de chaque agent au temps t."
      ],
      "cell_type": "markdown",
      "metadata": {}
    },
    {
      "cell_type": "code",
      "execution_count": null,
      "metadata": {},
      "outputs": [],
      "source": [
        "k_pop_1=10\n",
        "k_pop_2=5\n",
        "long=35\n",
        "phi_1=np.linspace(0,1,long)\n",
        "phi_2=np.linspace(0,1,long)"
      ]
    },
    {
      "cell_type": "code",
      "execution_count": null,
      "metadata": {},
      "outputs": [],
      "source": [
        "def Strat_moyenne_bipop(weight_1,weight_2,k_1,k_2):\n",
        "  \"\"\"\n",
        "  Entrées : Weight_1 / 2: float/int le poids à accorder à la méthode propre à chaque population\n",
        "  k_1/2 : int la période de glissement, doit-être un entier, propre à chaque population\n",
        "  ====================================================================\n",
        "  But : Calcul avec la méthode de la moyenne pour la présence de deux populations à stratégies opposées\n",
        "  ====================================================================\n",
        "  Sorties : le nouveau prix conformément à la méthode moyenne glissante : une liste \n",
        "            et le retour sous forme de liste \n",
        "  \"\"\"\n",
        "  k=max(k_1,k_2)\n",
        "  r_t=[0]*k\n",
        "  p_new=p_t[:k].tolist()\n",
        "  for i in range(k,NIT):\n",
        "    omega1=np.sign(p_new[-1]-np.mean(p_new[i-k_1:]))\n",
        "    omega2=-np.sign(p_new[-1]-np.mean(p_new[i-k_2:]))# signe - pour prendre la stratégie opposée\n",
        "    r_t.append(epsilon[i]+weight_1*omega1+weight_2*omega2)\n",
        "    p_new.append(p_new[-1]+r_t[-1])\n",
        "  return p_new,r_t"
      ]
    },
    {
      "cell_type": "code",
      "execution_count": null,
      "metadata": {},
      "outputs": [],
      "source": [
        "var=np.zeros((long,long))## calcul brut force de notre matrice\n",
        "for i in range(long):\n",
        "    for j in range(long):\n",
        "        var[i][j]=(np.var(Strat_moyenne_bipop(phi_1[i],phi_2[j],k_pop_1,k_pop_2)[1]))"
      ]
    },
    {
      "cell_type": "code",
      "execution_count": null,
      "metadata": {},
      "outputs": [],
      "source": [
        "sns.heatmap(var,cbar_kws={'label': 'Variance \\u03C3²'}).invert_yaxis()\n",
        "plt.title(\"Heatmap de la variance avec les poids d'un modèle à deux agents\")\n",
        "plt.xlabel(\"${\\phi}_{1}$\")\n",
        "plt.ylabel(\"${\\phi}_{2}$\")\n",
        "plt.legend()\n",
        "plt.show()"
      ]
    },
    {
      "cell_type": "code",
      "execution_count": null,
      "metadata": {},
      "outputs": [],
      "source": [
        "# sns.clustermap(var)\n",
        "xlabels = ['{:3.1f}'.format(x) for x in phi_1]\n",
        "ylabels = ['{:3.1f}'.format(y) for y in phi_2]\n",
        "ax = sns.heatmap(var, xticklabels=xlabels, yticklabels=ylabels,cbar_kws={'label': 'Variance \\u03C3²'})\n",
        "ax.set_xticks(ax.get_xticks()[::3])\n",
        "ax.set_xticklabels(xlabels[::3])\n",
        "ax.set_yticks(ax.get_yticks()[::3])\n",
        "ax.set_yticklabels(ylabels[::3])\n",
        "plt.title(\"Heatmap de la variance avec les poids d'un modèle à deux agents\")\n",
        "plt.xlabel(\"${\\phi}_{1}$\")\n",
        "plt.ylabel(\"${\\phi}_{2}$\")\n",
        "plt.legend()\n",
        "plt.show()"
      ]
    },
    {
      "source": [
        "Plus les phi sont différents, i.e. plus il y a un déséquilibre marqué entre les agents, plus la variance est élevée;ce qui entraine une variation importante des log-prix. \n",
        "A poids égale, les actions se \"compensent\" permettent d'avoir une variance faible comparativement au maximum observé.\n",
        "On notera tout de même que la variance est la plus faible lorsque $\\phi_{1}$ & $\\phi_{2} $ sont inférieurs à 0.4. Ceci s'explique par le fait que pour chaque agent, il s'agit de configuration où il y a le moins de variance. "
      ],
      "cell_type": "markdown",
      "metadata": {}
    },
    {
      "cell_type": "code",
      "execution_count": null,
      "metadata": {},
      "outputs": [],
      "source": [
        "auto_corr_bipop=[]\n",
        "for phi_1i in phi_1:\n",
        "    tampon=[]\n",
        "    for phi_2i in phi_2:\n",
        "        z=autocorr(Strat_moyenne_bipop(phi_1i,phi_2i,k_pop_1,k_pop_2)[1])\n",
        "        tampon.append(z[1]/float(z.max()))\n",
        "    auto_corr_bipop.append(tampon)"
      ]
    },
    {
      "cell_type": "code",
      "execution_count": null,
      "metadata": {},
      "outputs": [],
      "source": [
        "# sns.clustermap(auto_corr_bipop) # est-ce mieux ? \n",
        "xlabels = ['{:3.1f}'.format(x) for x in phi_1]\n",
        "ylabels = ['{:3.1f}'.format(y) for y in phi_2]\n",
        "ax = sns.heatmap(auto_corr_bipop, xticklabels=xlabels, yticklabels=ylabels,cbar_kws={'label': 'autocorrélation \\u03C3²'})\n",
        "ax.set_xticks(ax.get_xticks()[::3])\n",
        "ax.set_xticklabels(xlabels[::3])\n",
        "ax.set_yticks(ax.get_yticks()[::3])\n",
        "ax.set_yticklabels(ylabels[::3])\n",
        "plt.title(\"Heatmap de l'autocorrelation'avec les poids d'un modèle à deux agents\")\n",
        "plt.xlabel(\"${\\phi}_{1}$\")\n",
        "plt.ylabel(\"${\\phi}_{2}$\")\n",
        "plt.legend()\n",
        "plt.show()"
      ]
    },
    {
      "source": [
        "On peut voir que lorsque les $\\phi$ sont égaux, l'autocorrélation est nulle ce qui rend l'évolution du prix imprévisible. \n",
        "\n",
        "On note certains cas particuliers, à savoir deux zones : \n",
        "* 1. Lorsque $\\phi_1$ est faible et $\\phi_2$  fort, l'autocorrélation est proche de 0.4 . Dans ce cas précis, on est presque ramené au cas où on a un seul agent et on retrouve le résultat précédent.\n",
        "* 2. Lorsque $\\phi_1$ est fort et $\\phi_2$  faible, on a la même chose ( avec une valeur de l'autoccorélation opposée)"
      ],
      "cell_type": "markdown",
      "metadata": {}
    },
    {
      "source": [
        "# Conclusion "
      ],
      "cell_type": "markdown",
      "metadata": {}
    },
    {
      "source": [
        "Au travers de ce tp nous avons pu nous rendre compte de l’influence de stratégies (une ou deux opposées) sur la dynamique des\n",
        "prix."
      ],
      "cell_type": "markdown",
      "metadata": {}
    }
  ]
}