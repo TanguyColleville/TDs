{
 "cells": [
  {
   "cell_type": "code",
   "execution_count": 1,
   "metadata": {},
   "outputs": [],
   "source": [
    "import pandas as pd\n",
    "from arch import arch_model\n",
    "import matplotlib.pyplot as plt\n",
    "import numpy as np\n",
    "from sklearn.metrics import  mean_squared_error\n",
    "\n",
    "R =pd.read_csv('../TD4/long_series_logret.csv',index_col=0)\n",
    "R.index = pd.DatetimeIndex(R.index)\n",
    "\n",
    "year = 252\n",
    "r = (R[R.index.year>2005].values*year).T[0] #Just for convinience I annualized the returns"
   ]
  },
  {
   "cell_type": "code",
   "execution_count": 2,
   "metadata": {},
   "outputs": [],
   "source": [
    "#In-sample and out-of-sample window size\n",
    "tin,tout = 1500,5"
   ]
  },
  {
   "cell_type": "code",
   "execution_count": 209,
   "metadata": {},
   "outputs": [],
   "source": [
    "t = 0\n",
    "\n",
    "#fitting and GARCH(1,1) on the in-sample window\n",
    "Model = arch_model(r[t:t+tin], vol='GARCH', p=1,q=1,dist='t')\n",
    "fit = Model.fit(disp='off')\n",
    "\n",
    "#get the parameters\n",
    "parms = fit.params"
   ]
  },
  {
   "cell_type": "code",
   "execution_count": 210,
   "metadata": {},
   "outputs": [
    {
     "data": {
      "text/plain": [
       "mu          0.243070\n",
       "omega       0.687305\n",
       "alpha[1]    0.074552\n",
       "beta[1]     0.918357\n",
       "nu          5.472628\n",
       "Name: params, dtype: float64"
      ]
     },
     "execution_count": 210,
     "metadata": {},
     "output_type": "execute_result"
    }
   ],
   "source": [
    "parms"
   ]
  },
  {
   "cell_type": "code",
   "execution_count": 43,
   "metadata": {},
   "outputs": [
    {
     "data": {
      "text/plain": [
       "96.92857292526473"
      ]
     },
     "execution_count": 43,
     "metadata": {},
     "output_type": "execute_result"
    }
   ],
   "source": [
    "#Convergence value of the conditional variance\n",
    "conv = parms.loc['omega']/(1-parms.loc['alpha[1]']-parms.loc['beta[1]'])\n",
    "\n",
    "conv"
   ]
  },
  {
   "cell_type": "code",
   "execution_count": 211,
   "metadata": {},
   "outputs": [],
   "source": [
    "# Forecast of  500 time step analytically\n",
    "\n",
    "forecast = fit.forecast(horizon=500,method='analytic')"
   ]
  },
  {
   "cell_type": "code",
   "execution_count": 213,
   "metadata": {},
   "outputs": [
    {
     "data": {
      "text/html": [
       "<div>\n",
       "<style scoped>\n",
       "    .dataframe tbody tr th:only-of-type {\n",
       "        vertical-align: middle;\n",
       "    }\n",
       "\n",
       "    .dataframe tbody tr th {\n",
       "        vertical-align: top;\n",
       "    }\n",
       "\n",
       "    .dataframe thead th {\n",
       "        text-align: right;\n",
       "    }\n",
       "</style>\n",
       "<table border=\"1\" class=\"dataframe\">\n",
       "  <thead>\n",
       "    <tr style=\"text-align: right;\">\n",
       "      <th></th>\n",
       "      <th>h.001</th>\n",
       "      <th>h.002</th>\n",
       "      <th>h.003</th>\n",
       "      <th>h.004</th>\n",
       "      <th>h.005</th>\n",
       "      <th>h.006</th>\n",
       "      <th>h.007</th>\n",
       "      <th>h.008</th>\n",
       "      <th>h.009</th>\n",
       "      <th>h.010</th>\n",
       "      <th>...</th>\n",
       "      <th>h.491</th>\n",
       "      <th>h.492</th>\n",
       "      <th>h.493</th>\n",
       "      <th>h.494</th>\n",
       "      <th>h.495</th>\n",
       "      <th>h.496</th>\n",
       "      <th>h.497</th>\n",
       "      <th>h.498</th>\n",
       "      <th>h.499</th>\n",
       "      <th>h.500</th>\n",
       "    </tr>\n",
       "  </thead>\n",
       "  <tbody>\n",
       "    <tr>\n",
       "      <th>0</th>\n",
       "      <td>NaN</td>\n",
       "      <td>NaN</td>\n",
       "      <td>NaN</td>\n",
       "      <td>NaN</td>\n",
       "      <td>NaN</td>\n",
       "      <td>NaN</td>\n",
       "      <td>NaN</td>\n",
       "      <td>NaN</td>\n",
       "      <td>NaN</td>\n",
       "      <td>NaN</td>\n",
       "      <td>...</td>\n",
       "      <td>NaN</td>\n",
       "      <td>NaN</td>\n",
       "      <td>NaN</td>\n",
       "      <td>NaN</td>\n",
       "      <td>NaN</td>\n",
       "      <td>NaN</td>\n",
       "      <td>NaN</td>\n",
       "      <td>NaN</td>\n",
       "      <td>NaN</td>\n",
       "      <td>NaN</td>\n",
       "    </tr>\n",
       "    <tr>\n",
       "      <th>1</th>\n",
       "      <td>NaN</td>\n",
       "      <td>NaN</td>\n",
       "      <td>NaN</td>\n",
       "      <td>NaN</td>\n",
       "      <td>NaN</td>\n",
       "      <td>NaN</td>\n",
       "      <td>NaN</td>\n",
       "      <td>NaN</td>\n",
       "      <td>NaN</td>\n",
       "      <td>NaN</td>\n",
       "      <td>...</td>\n",
       "      <td>NaN</td>\n",
       "      <td>NaN</td>\n",
       "      <td>NaN</td>\n",
       "      <td>NaN</td>\n",
       "      <td>NaN</td>\n",
       "      <td>NaN</td>\n",
       "      <td>NaN</td>\n",
       "      <td>NaN</td>\n",
       "      <td>NaN</td>\n",
       "      <td>NaN</td>\n",
       "    </tr>\n",
       "    <tr>\n",
       "      <th>2</th>\n",
       "      <td>NaN</td>\n",
       "      <td>NaN</td>\n",
       "      <td>NaN</td>\n",
       "      <td>NaN</td>\n",
       "      <td>NaN</td>\n",
       "      <td>NaN</td>\n",
       "      <td>NaN</td>\n",
       "      <td>NaN</td>\n",
       "      <td>NaN</td>\n",
       "      <td>NaN</td>\n",
       "      <td>...</td>\n",
       "      <td>NaN</td>\n",
       "      <td>NaN</td>\n",
       "      <td>NaN</td>\n",
       "      <td>NaN</td>\n",
       "      <td>NaN</td>\n",
       "      <td>NaN</td>\n",
       "      <td>NaN</td>\n",
       "      <td>NaN</td>\n",
       "      <td>NaN</td>\n",
       "      <td>NaN</td>\n",
       "    </tr>\n",
       "    <tr>\n",
       "      <th>3</th>\n",
       "      <td>NaN</td>\n",
       "      <td>NaN</td>\n",
       "      <td>NaN</td>\n",
       "      <td>NaN</td>\n",
       "      <td>NaN</td>\n",
       "      <td>NaN</td>\n",
       "      <td>NaN</td>\n",
       "      <td>NaN</td>\n",
       "      <td>NaN</td>\n",
       "      <td>NaN</td>\n",
       "      <td>...</td>\n",
       "      <td>NaN</td>\n",
       "      <td>NaN</td>\n",
       "      <td>NaN</td>\n",
       "      <td>NaN</td>\n",
       "      <td>NaN</td>\n",
       "      <td>NaN</td>\n",
       "      <td>NaN</td>\n",
       "      <td>NaN</td>\n",
       "      <td>NaN</td>\n",
       "      <td>NaN</td>\n",
       "    </tr>\n",
       "    <tr>\n",
       "      <th>4</th>\n",
       "      <td>NaN</td>\n",
       "      <td>NaN</td>\n",
       "      <td>NaN</td>\n",
       "      <td>NaN</td>\n",
       "      <td>NaN</td>\n",
       "      <td>NaN</td>\n",
       "      <td>NaN</td>\n",
       "      <td>NaN</td>\n",
       "      <td>NaN</td>\n",
       "      <td>NaN</td>\n",
       "      <td>...</td>\n",
       "      <td>NaN</td>\n",
       "      <td>NaN</td>\n",
       "      <td>NaN</td>\n",
       "      <td>NaN</td>\n",
       "      <td>NaN</td>\n",
       "      <td>NaN</td>\n",
       "      <td>NaN</td>\n",
       "      <td>NaN</td>\n",
       "      <td>NaN</td>\n",
       "      <td>NaN</td>\n",
       "    </tr>\n",
       "    <tr>\n",
       "      <th>...</th>\n",
       "      <td>...</td>\n",
       "      <td>...</td>\n",
       "      <td>...</td>\n",
       "      <td>...</td>\n",
       "      <td>...</td>\n",
       "      <td>...</td>\n",
       "      <td>...</td>\n",
       "      <td>...</td>\n",
       "      <td>...</td>\n",
       "      <td>...</td>\n",
       "      <td>...</td>\n",
       "      <td>...</td>\n",
       "      <td>...</td>\n",
       "      <td>...</td>\n",
       "      <td>...</td>\n",
       "      <td>...</td>\n",
       "      <td>...</td>\n",
       "      <td>...</td>\n",
       "      <td>...</td>\n",
       "      <td>...</td>\n",
       "      <td>...</td>\n",
       "    </tr>\n",
       "    <tr>\n",
       "      <th>1495</th>\n",
       "      <td>NaN</td>\n",
       "      <td>NaN</td>\n",
       "      <td>NaN</td>\n",
       "      <td>NaN</td>\n",
       "      <td>NaN</td>\n",
       "      <td>NaN</td>\n",
       "      <td>NaN</td>\n",
       "      <td>NaN</td>\n",
       "      <td>NaN</td>\n",
       "      <td>NaN</td>\n",
       "      <td>...</td>\n",
       "      <td>NaN</td>\n",
       "      <td>NaN</td>\n",
       "      <td>NaN</td>\n",
       "      <td>NaN</td>\n",
       "      <td>NaN</td>\n",
       "      <td>NaN</td>\n",
       "      <td>NaN</td>\n",
       "      <td>NaN</td>\n",
       "      <td>NaN</td>\n",
       "      <td>NaN</td>\n",
       "    </tr>\n",
       "    <tr>\n",
       "      <th>1496</th>\n",
       "      <td>NaN</td>\n",
       "      <td>NaN</td>\n",
       "      <td>NaN</td>\n",
       "      <td>NaN</td>\n",
       "      <td>NaN</td>\n",
       "      <td>NaN</td>\n",
       "      <td>NaN</td>\n",
       "      <td>NaN</td>\n",
       "      <td>NaN</td>\n",
       "      <td>NaN</td>\n",
       "      <td>...</td>\n",
       "      <td>NaN</td>\n",
       "      <td>NaN</td>\n",
       "      <td>NaN</td>\n",
       "      <td>NaN</td>\n",
       "      <td>NaN</td>\n",
       "      <td>NaN</td>\n",
       "      <td>NaN</td>\n",
       "      <td>NaN</td>\n",
       "      <td>NaN</td>\n",
       "      <td>NaN</td>\n",
       "    </tr>\n",
       "    <tr>\n",
       "      <th>1497</th>\n",
       "      <td>NaN</td>\n",
       "      <td>NaN</td>\n",
       "      <td>NaN</td>\n",
       "      <td>NaN</td>\n",
       "      <td>NaN</td>\n",
       "      <td>NaN</td>\n",
       "      <td>NaN</td>\n",
       "      <td>NaN</td>\n",
       "      <td>NaN</td>\n",
       "      <td>NaN</td>\n",
       "      <td>...</td>\n",
       "      <td>NaN</td>\n",
       "      <td>NaN</td>\n",
       "      <td>NaN</td>\n",
       "      <td>NaN</td>\n",
       "      <td>NaN</td>\n",
       "      <td>NaN</td>\n",
       "      <td>NaN</td>\n",
       "      <td>NaN</td>\n",
       "      <td>NaN</td>\n",
       "      <td>NaN</td>\n",
       "    </tr>\n",
       "    <tr>\n",
       "      <th>1498</th>\n",
       "      <td>NaN</td>\n",
       "      <td>NaN</td>\n",
       "      <td>NaN</td>\n",
       "      <td>NaN</td>\n",
       "      <td>NaN</td>\n",
       "      <td>NaN</td>\n",
       "      <td>NaN</td>\n",
       "      <td>NaN</td>\n",
       "      <td>NaN</td>\n",
       "      <td>NaN</td>\n",
       "      <td>...</td>\n",
       "      <td>NaN</td>\n",
       "      <td>NaN</td>\n",
       "      <td>NaN</td>\n",
       "      <td>NaN</td>\n",
       "      <td>NaN</td>\n",
       "      <td>NaN</td>\n",
       "      <td>NaN</td>\n",
       "      <td>NaN</td>\n",
       "      <td>NaN</td>\n",
       "      <td>NaN</td>\n",
       "    </tr>\n",
       "    <tr>\n",
       "      <th>1499</th>\n",
       "      <td>65.03922</td>\n",
       "      <td>65.265342</td>\n",
       "      <td>65.489861</td>\n",
       "      <td>65.712788</td>\n",
       "      <td>65.934135</td>\n",
       "      <td>66.153911</td>\n",
       "      <td>66.37213</td>\n",
       "      <td>66.588801</td>\n",
       "      <td>66.803935</td>\n",
       "      <td>67.017544</td>\n",
       "      <td>...</td>\n",
       "      <td>95.952891</td>\n",
       "      <td>95.959809</td>\n",
       "      <td>95.966678</td>\n",
       "      <td>95.973499</td>\n",
       "      <td>95.980271</td>\n",
       "      <td>95.986995</td>\n",
       "      <td>95.993672</td>\n",
       "      <td>96.000301</td>\n",
       "      <td>96.006884</td>\n",
       "      <td>96.013419</td>\n",
       "    </tr>\n",
       "  </tbody>\n",
       "</table>\n",
       "<p>1500 rows × 500 columns</p>\n",
       "</div>"
      ],
      "text/plain": [
       "         h.001      h.002      h.003      h.004      h.005      h.006  \\\n",
       "0          NaN        NaN        NaN        NaN        NaN        NaN   \n",
       "1          NaN        NaN        NaN        NaN        NaN        NaN   \n",
       "2          NaN        NaN        NaN        NaN        NaN        NaN   \n",
       "3          NaN        NaN        NaN        NaN        NaN        NaN   \n",
       "4          NaN        NaN        NaN        NaN        NaN        NaN   \n",
       "...        ...        ...        ...        ...        ...        ...   \n",
       "1495       NaN        NaN        NaN        NaN        NaN        NaN   \n",
       "1496       NaN        NaN        NaN        NaN        NaN        NaN   \n",
       "1497       NaN        NaN        NaN        NaN        NaN        NaN   \n",
       "1498       NaN        NaN        NaN        NaN        NaN        NaN   \n",
       "1499  65.03922  65.265342  65.489861  65.712788  65.934135  66.153911   \n",
       "\n",
       "         h.007      h.008      h.009      h.010  ...      h.491      h.492  \\\n",
       "0          NaN        NaN        NaN        NaN  ...        NaN        NaN   \n",
       "1          NaN        NaN        NaN        NaN  ...        NaN        NaN   \n",
       "2          NaN        NaN        NaN        NaN  ...        NaN        NaN   \n",
       "3          NaN        NaN        NaN        NaN  ...        NaN        NaN   \n",
       "4          NaN        NaN        NaN        NaN  ...        NaN        NaN   \n",
       "...        ...        ...        ...        ...  ...        ...        ...   \n",
       "1495       NaN        NaN        NaN        NaN  ...        NaN        NaN   \n",
       "1496       NaN        NaN        NaN        NaN  ...        NaN        NaN   \n",
       "1497       NaN        NaN        NaN        NaN  ...        NaN        NaN   \n",
       "1498       NaN        NaN        NaN        NaN  ...        NaN        NaN   \n",
       "1499  66.37213  66.588801  66.803935  67.017544  ...  95.952891  95.959809   \n",
       "\n",
       "          h.493      h.494      h.495      h.496      h.497      h.498  \\\n",
       "0           NaN        NaN        NaN        NaN        NaN        NaN   \n",
       "1           NaN        NaN        NaN        NaN        NaN        NaN   \n",
       "2           NaN        NaN        NaN        NaN        NaN        NaN   \n",
       "3           NaN        NaN        NaN        NaN        NaN        NaN   \n",
       "4           NaN        NaN        NaN        NaN        NaN        NaN   \n",
       "...         ...        ...        ...        ...        ...        ...   \n",
       "1495        NaN        NaN        NaN        NaN        NaN        NaN   \n",
       "1496        NaN        NaN        NaN        NaN        NaN        NaN   \n",
       "1497        NaN        NaN        NaN        NaN        NaN        NaN   \n",
       "1498        NaN        NaN        NaN        NaN        NaN        NaN   \n",
       "1499  95.966678  95.973499  95.980271  95.986995  95.993672  96.000301   \n",
       "\n",
       "          h.499      h.500  \n",
       "0           NaN        NaN  \n",
       "1           NaN        NaN  \n",
       "2           NaN        NaN  \n",
       "3           NaN        NaN  \n",
       "4           NaN        NaN  \n",
       "...         ...        ...  \n",
       "1495        NaN        NaN  \n",
       "1496        NaN        NaN  \n",
       "1497        NaN        NaN  \n",
       "1498        NaN        NaN  \n",
       "1499  96.006884  96.013419  \n",
       "\n",
       "[1500 rows x 500 columns]"
      ]
     },
     "execution_count": 213,
     "metadata": {},
     "output_type": "execute_result"
    }
   ],
   "source": [
    "# Only the last row is the forecast, the columns are the lags\n",
    "# The first element is the last in-sample estimate\n",
    "\n",
    "forecast.variance"
   ]
  },
  {
   "cell_type": "code",
   "execution_count": null,
   "metadata": {},
   "outputs": [],
   "source": []
  },
  {
   "cell_type": "code",
   "execution_count": 50,
   "metadata": {},
   "outputs": [
    {
     "data": {
      "image/png": "[encoded data removed]",
      "text/plain": [
       "<Figure size 432x288 with 1 Axes>"
      ]
     },
     "metadata": {
      "needs_background": "light"
     },
     "output_type": "display_data"
    }
   ],
   "source": [
    "plt.plot( forecast.variance.iloc[-1].values )\n",
    "plt.hlines(conv,0,500)\n",
    "plt.xlabel('h lags [future]',fontsize=16)\n",
    "plt.ylabel(r'$E[\\hat{\\sigma}_t]$',fontsize=16)\n",
    "plt.tick_params(labelsize=14)"
   ]
  },
  {
   "cell_type": "code",
   "execution_count": 214,
   "metadata": {},
   "outputs": [],
   "source": [
    "t = 0\n",
    "\n",
    "# define a GARCH(1,1) for in-sample and out-of-sample\n",
    "Model = arch_model(r[t:t+tin+tout], vol='GARCH', p=1,q=1,dist='t')\n",
    "# fit only the in-sample time-window \n",
    "fit = Model.fit(disp='off',last_obs=tin)\n",
    "\n",
    "# Simulate for the out-of-sample horizon, if 1000 sims are too much, just reduce it\n",
    "forecast = fit.forecast(horizon=tout+1,simulations=1000,method='simulation')"
   ]
  },
  {
   "cell_type": "code",
   "execution_count": 216,
   "metadata": {},
   "outputs": [
    {
     "data": {
      "text/plain": [
       "array([[[         nan,          nan,          nan,          nan,\n",
       "                  nan,          nan],\n",
       "        [         nan,          nan,          nan,          nan,\n",
       "                  nan,          nan],\n",
       "        [         nan,          nan,          nan,          nan,\n",
       "                  nan,          nan],\n",
       "        ...,\n",
       "        [         nan,          nan,          nan,          nan,\n",
       "                  nan,          nan],\n",
       "        [         nan,          nan,          nan,          nan,\n",
       "                  nan,          nan],\n",
       "        [         nan,          nan,          nan,          nan,\n",
       "                  nan,          nan]],\n",
       "\n",
       "       [[         nan,          nan,          nan,          nan,\n",
       "                  nan,          nan],\n",
       "        [         nan,          nan,          nan,          nan,\n",
       "                  nan,          nan],\n",
       "        [         nan,          nan,          nan,          nan,\n",
       "                  nan,          nan],\n",
       "        ...,\n",
       "        [         nan,          nan,          nan,          nan,\n",
       "                  nan,          nan],\n",
       "        [         nan,          nan,          nan,          nan,\n",
       "                  nan,          nan],\n",
       "        [         nan,          nan,          nan,          nan,\n",
       "                  nan,          nan]],\n",
       "\n",
       "       [[         nan,          nan,          nan,          nan,\n",
       "                  nan,          nan],\n",
       "        [         nan,          nan,          nan,          nan,\n",
       "                  nan,          nan],\n",
       "        [         nan,          nan,          nan,          nan,\n",
       "                  nan,          nan],\n",
       "        ...,\n",
       "        [         nan,          nan,          nan,          nan,\n",
       "                  nan,          nan],\n",
       "        [         nan,          nan,          nan,          nan,\n",
       "                  nan,          nan],\n",
       "        [         nan,          nan,          nan,          nan,\n",
       "                  nan,          nan]],\n",
       "\n",
       "       ...,\n",
       "\n",
       "       [[ 59.90080683,  55.83242943,  59.29639951,  56.06729228,\n",
       "          78.53303679,  73.06901395],\n",
       "        [ 59.90080683,  55.70422727,  53.82909931,  52.47537962,\n",
       "          50.01678766,  46.73737283],\n",
       "        [ 59.90080683,  60.2625186 ,  61.30432123,  69.21085278,\n",
       "          67.78789017,  71.95312089],\n",
       "        ...,\n",
       "        [ 59.90080683,  70.19976384,  66.92239433,  66.21181172,\n",
       "          74.27424808,  69.80369167],\n",
       "        [ 59.90080683,  55.69830558,  69.43378959,  64.45431218,\n",
       "          67.37258392,  69.18726256],\n",
       "        [ 59.90080683,  56.93410479,  57.42484494,  53.61031569,\n",
       "          53.67785308,  65.11927283]],\n",
       "\n",
       "       [[ 73.8256421 ,  72.11833981,  67.08710483,  63.3374214 ,\n",
       "          59.69094618,  69.56522187],\n",
       "        [ 73.8256421 ,  85.04890194,  78.81454531,  73.08292843,\n",
       "          69.79234339,  66.96111251],\n",
       "        [ 73.8256421 ,  76.14194848,  80.7400202 ,  84.07265823,\n",
       "          78.28824589,  72.59488951],\n",
       "        ...,\n",
       "        [ 73.8256421 ,  70.77583182,  72.74055002,  70.17267126,\n",
       "          71.04095695,  65.96697462],\n",
       "        [ 73.8256421 ,  76.35831954,  73.47161018,  74.64042417,\n",
       "          71.12567497,  66.16121358],\n",
       "        [ 73.8256421 ,  69.22226258,  65.2299207 ,  74.56366399,\n",
       "          70.54698026,  65.73668804]],\n",
       "\n",
       "       [[ 82.29317293,  85.00935342,  82.17510467,  90.42537749,\n",
       "          83.79857876, 104.74467301],\n",
       "        [ 82.29317293,  76.73806301, 108.58691336, 102.21599645,\n",
       "          94.98306572,  89.88517306],\n",
       "        [ 82.29317293,  78.13861882,  73.38603358,  68.56443911,\n",
       "          64.8804909 ,  65.22732603],\n",
       "        ...,\n",
       "        [ 82.29317293,  94.80763988,  92.07752095,  85.94331938,\n",
       "          79.61624682,  83.96663   ],\n",
       "        [ 82.29317293,  81.68604017,  82.12364151,  78.100994  ,\n",
       "          73.8855487 ,  71.62775071],\n",
       "        [ 82.29317293,  79.79306394,  75.33373709,  76.94997602,\n",
       "          80.07696205,  93.18642748]]])"
      ]
     },
     "execution_count": 216,
     "metadata": {},
     "output_type": "execute_result"
    }
   ],
   "source": [
    "#only the last element are the simulations\n",
    "forecast.simulations.variances"
   ]
  },
  {
   "cell_type": "code",
   "execution_count": 218,
   "metadata": {},
   "outputs": [
    {
     "data": {
      "text/plain": [
       "(1000, 6)"
      ]
     },
     "execution_count": 218,
     "metadata": {},
     "output_type": "execute_result"
    }
   ],
   "source": [
    "# Simulations are by rows, times is by column. The first column is the last in-sample observation\n",
    "forecast.simulations.variances[-1].shape"
   ]
  },
  {
   "cell_type": "code",
   "execution_count": 219,
   "metadata": {},
   "outputs": [],
   "source": [
    "simulated = forecast.simulations.variances[-1][:,1:]\n",
    "\n",
    "# Estimat the conditional variance by using the in-sample calibrated parameters\n",
    "OOS_obs = Model.fix(fit.params).conditional_volatility[-tout:]**2\n",
    "## fix computing overall the timeseries \n",
    "\n",
    "# Get a 90% confidence interval\n",
    "minCI,maxCI = np.percentile(simulated,5,axis=0),np.percentile(simulated,95,axis=0)\n",
    "\n",
    "# Get the mean (it can be computed also analytically)\n",
    "mean = simulated.mean(axis=0)"
   ]
  },
  {
   "cell_type": "code",
   "execution_count": 220,
   "metadata": {},
   "outputs": [
    {
     "data": {
      "text/plain": [
       "<matplotlib.legend.Legend at 0x7efe71d85d30>"
      ]
     },
     "execution_count": 220,
     "metadata": {},
     "output_type": "execute_result"
    },
    {
     "data": {
      "image/png": "[encoded data removed]",
      "text/plain": [
       "<Figure size 432x288 with 1 Axes>"
      ]
     },
     "metadata": {
      "needs_background": "light"
     },
     "output_type": "display_data"
    }
   ],
   "source": [
    "\n",
    "dx = np.arange(1,tout+1)\n",
    "plt.plot(dx,OOS_obs,'-o',label='OOS --> variance prédites')\n",
    "plt.fill_between(dx,minCI,maxCI,alpha=0.4,label='90% Confidance Interval')\n",
    "plt.plot(dx,mean,label='expected --> variance moyenne sur les simulations Monte Carlo')\n",
    "plt.xlabel('h lags [future]',fontsize=16)\n",
    "plt.ylabel(r'$σ_t^2$',fontsize=16)\n",
    "plt.tick_params(labelsize=14)\n",
    "plt.legend(loc='upper left',fontsize=13)"
   ]
  },
  {
   "cell_type": "code",
   "execution_count": 221,
   "metadata": {},
   "outputs": [],
   "source": [
    "Coverage_GARCH,DIFF_GARCH = [],[]\n",
    "\n",
    "# Sliding windows in step of 5 days\n",
    "for t in range(0,1000,5):\n",
    "\n",
    "    Model = arch_model(r[t:t+tin+tout], vol='GARCH', p=1,q=1,dist='t')\n",
    "    fit = Model.fit(disp='off',last_obs=tin)\n",
    "    \n",
    "    #if 1000 are too much reduce it\n",
    "    forecast = fit.forecast(horizon=tout+1,simulations=1000,method='simulation')\n",
    "\n",
    "    simulated = forecast.simulations.variances[-1][:,1:]\n",
    "    \n",
    "    OOS_obs = Model.fix(fit.params).conditional_volatility[-tout:]**2\n",
    "\n",
    "\n",
    "    minCI,maxCI = np.percentile(simulated,5,axis=0),np.percentile(simulated,95,axis=0)\n",
    "    mean = simulated.mean(axis=0)\n",
    "\n",
    "    # Computing if the observations fall inside the CI\n",
    "    Coverage_GARCH.append( (OOS_obs>minCI)*(OOS_obs<maxCI) )\n",
    "    \n",
    "    # Computing the deviation from the expectation \n",
    "    DIFF_GARCH.append(OOS_obs-mean)"
   ]
  },
  {
   "cell_type": "code",
   "execution_count": 222,
   "metadata": {},
   "outputs": [
    {
     "data": {
      "image/png": "[encoded data removed]",
      "text/plain": [
       "<Figure size 432x288 with 1 Axes>"
      ]
     },
     "metadata": {
      "needs_background": "light"
     },
     "output_type": "display_data"
    }
   ],
   "source": [
    "dx = np.arange(1,1+tout)\n",
    "plt.plot(dx, np.mean(Coverage_GARCH,axis=0),'-o' )\n",
    "plt.hlines(0.9,0,7,linestyles='--')\n",
    "plt.xlim([0.8,5.2])\n",
    "plt.xlabel('h lags [future]',fontsize=16)\n",
    "plt.ylabel('Fraction of True Positive',fontsize=16)\n",
    "plt.tick_params(labelsize=14)\n",
    "\n",
    "plt.title('Expected Coverage 90%',fontsize=16)\n",
    "plt.show()\n"
   ]
  },
  {
   "cell_type": "code",
   "execution_count": 223,
   "metadata": {},
   "outputs": [
    {
     "data": {
      "image/png": "[encoded data removed]",
      "text/plain": [
       "<Figure size 432x288 with 1 Axes>"
      ]
     },
     "metadata": {
      "needs_background": "light"
     },
     "output_type": "display_data"
    }
   ],
   "source": [
    "plt.plot( dx,abs(np.array(DIFF_GARCH)).mean(axis=0),'-o' ,label='GARCH(1,1)' )\n",
    "\n",
    "plt.xlim([0.8,5.2])\n",
    "plt.xlabel('h lags [future]',fontsize=16)\n",
    "plt.ylabel(r'||OOS-Predict||$_1$',fontsize=16)\n",
    "plt.tick_params(labelsize=14)\n",
    "\n",
    "plt.ylim(ymin=0)\n",
    "plt.show()"
   ]
  },
  {
   "cell_type": "code",
   "execution_count": 226,
   "metadata": {},
   "outputs": [],
   "source": [
    "# The long-range predictions seems better\n"
   ]
  },
  {
   "cell_type": "code",
   "execution_count": 224,
   "metadata": {},
   "outputs": [],
   "source": [
    "Coverage_ARCH,DIFF_ARCH = [],[]\n",
    "for t in range(0,1000,5):\n",
    "\n",
    "    #Fit with an ARCH(5)\n",
    "    Model = arch_model(r[t:t+tin+tout], vol='ARCH', p=5,dist='t')\n",
    "    fit = Model.fit(disp='off',last_obs=tin)\n",
    "    \n",
    "    #if 1000 are too much reduce it\n",
    "    forecast = fit.forecast(horizon=tout+1,simulations=1000,method='simulation')\n",
    "\n",
    "    simulated = forecast.simulations.variances[-1][:,1:]\n",
    "    \n",
    "    OOS_obs = Model.fix(fit.params).conditional_volatility[-tout:]**2\n",
    "\n",
    "    \n",
    "    minCI,maxCI = np.percentile(simulated,5,axis=0),np.percentile(simulated,95,axis=0)\n",
    "    mean = simulated.mean(axis=0)\n",
    "\n",
    "    Coverage_ARCH.append( (OOS_obs>minCI)*(OOS_obs<maxCI) )\n",
    "    DIFF_ARCH.append(OOS_obs-mean)"
   ]
  },
  {
   "cell_type": "code",
   "execution_count": 227,
   "metadata": {},
   "outputs": [
    {
     "data": {
      "image/png": "[encoded data removed]",
      "text/plain": [
       "<Figure size 432x288 with 1 Axes>"
      ]
     },
     "metadata": {
      "needs_background": "light"
     },
     "output_type": "display_data"
    }
   ],
   "source": [
    "dx = np.arange(1,1+tout)\n",
    "plt.plot(dx, np.mean(Coverage_GARCH,axis=0),'-o',label='GARCH(1,1)' )\n",
    "plt.plot(dx, np.mean(Coverage_ARCH,axis=0),'-o',label='ARCH(5)' )\n",
    "plt.hlines(0.9,0,7,linestyles='--')\n",
    "plt.xlim([0.8,5.2])\n",
    "plt.xlabel('h lags [future]',fontsize=16)\n",
    "plt.ylabel('Fraction of True Positive',fontsize=16)\n",
    "plt.tick_params(labelsize=14)\n",
    "plt.legend(loc='lower right',fontsize=13)\n",
    "plt.title('Expected Coverage 90%',fontsize=16)\n",
    "plt.show()"
   ]
  },
  {
   "cell_type": "code",
   "execution_count": 228,
   "metadata": {},
   "outputs": [
    {
     "data": {
      "image/png": "[encoded data removed]",
      "text/plain": [
       "<Figure size 432x288 with 1 Axes>"
      ]
     },
     "metadata": {
      "needs_background": "light"
     },
     "output_type": "display_data"
    }
   ],
   "source": [
    "plt.plot( dx,abs(np.array(DIFF_GARCH)).mean(axis=0),'-o' ,label='GARCH(1,1)' )\n",
    "plt.plot( dx,abs(np.array(DIFF_ARCH)).mean(axis=0),'-o' ,label='ARCH(5)' )\n",
    "\n",
    "plt.xlim([0.8,5.2])\n",
    "plt.xlabel('h lags [future]',fontsize=16)\n",
    "plt.ylabel(r'||OOS-Predict||$_1$',fontsize=16)\n",
    "plt.tick_params(labelsize=14)\n",
    "plt.legend(loc='best',fontsize=13)\n",
    "\n",
    "plt.ylim(ymin=0)\n",
    "plt.show()"
   ]
  },
  {
   "cell_type": "code",
   "execution_count": 229,
   "metadata": {},
   "outputs": [],
   "source": [
    "# The GARCH(1,1) is clearly better then the ARCH(5)"
   ]
  },
  {
   "cell_type": "code",
   "execution_count": null,
   "metadata": {},
   "outputs": [],
   "source": [
    "# Please note that this is only an anecdotal example, you should not never assume it as a general rule."
   ]
  },
  {
   "cell_type": "code",
   "execution_count": null,
   "metadata": {},
   "outputs": [],
   "source": []
  }
 ],
 "metadata": {
  "kernelspec": {
   "display_name": "Python 3",
   "language": "python",
   "name": "python3"
  },
  "language_info": {
   "codemirror_mode": {
    "name": "ipython",
    "version": 3
   },
   "file_extension": ".py",
   "mimetype": "text/x-python",
   "name": "python",
   "nbconvert_exporter": "python",
   "pygments_lexer": "ipython3",
   "version": "3.8.5"
  }
 },
 "nbformat": 4,
 "nbformat_minor": 4
}